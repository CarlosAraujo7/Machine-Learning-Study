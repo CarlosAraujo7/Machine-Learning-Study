{
 "cells": [
  {
   "cell_type": "markdown",
   "metadata": {},
   "source": [
    "### Conceitos Gerais"
   ]
  },
  {
   "cell_type": "markdown",
   "metadata": {},
   "source": [
    "**Aprendizagem de Máquina**\n",
    "\n",
    "**1. Supervisionado:** Os métodos preditivos são geralmente associados ao aprendizado supervisionado, onde o modelo é treinado em um conjunto de dados rotulados (com entrada e saída conhecidas) para aprender a relação entre as variáveis. \n",
    "\n",
    "- **Processo de Aprendizado:**\n",
    "  - **Extração de Características:** Nesta etapa, são identificadas e selecionadas as características relevantes dos dados de treinamento. Isso envolve a escolha das informações que serão usadas para ensinar o modelo a fazer previsões.\n",
    "\n",
    "  - **Algoritmo de Aprendizagem de Máquina (Inserido pelo Supervisor):** Um algoritmo de aprendizado de máquina é escolhido e aplicado aos dados de treinamento. Este algoritmo é responsável por aprender a relação entre as características de entrada e as saídas desejadas. \n",
    "\n",
    "  - **Modelo Aprendido:** Após o treinamento, o algoritmo cria um modelo que captura as relações aprendidas nos dados de treinamento. Este modelo é capaz de fazer previsões com base nas características de entrada.\n",
    "\n",
    "- **Uso do Modelo Treinado:**\n",
    "\n",
    "  Após o modelo estar treinado, basta informar as características de um novo registro para ter a resposta. O modelo aplica as informações de entrada às relações aprendidas durante o treinamento e gera uma previsão ou resposta de acordo com a tarefa para a qual foi treinado.\n",
    "\n",
    "**2. Não Supervisionado:** Os métodos Descritivos são considerados não supervisionados, pois não dependem de rótulos ou saídas conhecidas nos dados de treinamento. Em vez disso, eles exploram a estrutura e os padrões inerentes nos dados por conta própria. Técnicas em análise de dados que se concentram em resumir e descrever os principais aspectos de um conjunto de dados.\n",
    "\n",
    "**OBS:** O termo \"supervisionado\" no contexto do aprendizado de máquina é por conta do treinamento do modelo, existe uma supervisão explícita ou uma orientação fornecida pelos rótulos (ou saídas desejadas) associados aos dados de treinamento.\n",
    "\n",
    "**Categorias**\n",
    "\n",
    "| Métodos Preditivos     | Métodos Descritivos |\n",
    "| ---------------------- | ---------------     |\n",
    "| Classificação          | Associação          |\n",
    "| Regressão              | Agrupamento         |\n",
    "|                        | Detecção de desvios |\n",
    "|                        | Padrões sequenciais |\n",
    "|                        | Sumarização         |\n",
    "\n",
    "**Descrição:**\n",
    "\n",
    "**1. Métodos Preditivos:** Se concentra em fazer previsões ou estimativas com base em dados históricos. São úteis quando queremos fazer classificações sobre dados \"futuros\" com base em padrões observados.\n",
    "\n",
    "- **Classificação:** Envolve a atribuição de rótulos/categorias a um conjunto de dados com base em suas características. Por exemplo, um sistema de classificação de empréstimo pode indicar se um cliente irá pagar ou não o que deve.\n",
    "\n",
    "- **Regressão:** Em vez de rótulos categóricos, ela prevê valores contínuos com base em características. Por exemplo, prever o preço de uma casa com base em atributos como tamanho, localização, quantidade de banheiros, etc.\n",
    "\n",
    "**2. Métodos Descritivos:**\n",
    "\n",
    "- **Associação:** A análise de associação identifica padrões em conjuntos de dados que mostram quais itens geralmente ocorrem juntos. Um exemplo clássico é a análise de cestos de compras, onde se procura por associações frequentes entre produtos.\n",
    "\n",
    "- **Agrupamento:** O agrupamento (ou clustering) envolve a divisão de um conjunto de dados em grupos ou clusters de modo que os itens dentro de um grupo sejam mais similares entre si do que com itens em outros grupos. É usado para descobrir estruturas ou segmentos em dados.\n",
    "\n",
    "- **Detecção de Desvios:** Identifica padrões ou instâncias incomuns em um conjunto de dados. Ela é usada para encontrar pontos de dados que se desviam significativamente da maioria do conjunto de dados. Isso é valioso em aplicações como detecção de fraudes em transações financeiras ou identificação de falhas em sistemas.\n",
    "\n",
    "- **Padrões Sequenciais:** Se concentra em identificar sequências de eventos em dados temporais. Isso é especialmente útil em domínios como previsão de demanda, por exemplo, se um cliente comprou o primeiro livro do Harry Potter, ele está inclinado a comprar o segundo.\n",
    "\n",
    "- **Sumarização:** Extrair informações essenciais e relevantes de grandes conjuntos de dados ou documentos. Pode ser aplicada a texto, áudio, vídeo, entre outros tipos de dados. Por exemplo, em processamento de linguagem natural, a sumarização de texto envolve condensar um texto longo em um resumo conciso que mantenha as informações mais importantes.\n"
   ]
  },
  {
   "cell_type": "markdown",
   "metadata": {},
   "source": [
    "### Biblioteca Pandas"
   ]
  },
  {
   "cell_type": "markdown",
   "metadata": {},
   "source": [
    "**Pandas: Manipulação e Análise de Dados em Python**\n",
    "\n",
    "O Pandas desempenha um papel crucial no pré-processamento de dados antes do treinamento de modelos em aprendizado de máquina.\n",
    "\n",
    "**Por onde estudar a Biblioteca Pandas?**\n",
    "\n",
    "- Recomendação: https://www.w3schools.com/python/pandas/default.asp"
   ]
  },
  {
   "cell_type": "code",
   "execution_count": 67,
   "metadata": {},
   "outputs": [],
   "source": [
    "import pandas as pd"
   ]
  },
  {
   "cell_type": "markdown",
   "metadata": {},
   "source": [
    "#### Funções do Pandas para Pré-processamento e Exploração de Dados"
   ]
  },
  {
   "cell_type": "markdown",
   "metadata": {},
   "source": [
    "##### Leitura de dados:"
   ]
  },
  {
   "cell_type": "markdown",
   "metadata": {},
   "source": [
    "- `pd.read_csv()`: Permite a leitura de arquivos no formato CSV (Comma Separated Values), um dos formatos mais comuns para armazenamento de dados tabulares.\n",
    "\n",
    "- `pd.read_excel()`: Lê dados de planilhas do Excel (.xls ou .xlsx).\n",
    "\n",
    "- `pd.read_sql()`: Permite a leitura de dados diretamente de bancos de dados SQL.\n",
    "\n",
    "- `pd.read_json()`: Lê dados de arquivos JSON, um formato comum para estruturação de dados.\n",
    "\n",
    "- `pd.read_html()`: Extrai tabelas de páginas web diretamente para um DataFrame."
   ]
  },
  {
   "cell_type": "markdown",
   "metadata": {},
   "source": [
    "##### Exploração Inicial de Dados: "
   ]
  },
  {
   "cell_type": "markdown",
   "metadata": {},
   "source": [
    "- `df.head()`: Retorna as primeiras linhas do DataFrame, permitindo uma rápida visualização dos dados.\n",
    "\n",
    "- `df.info()`: Fornece informações sobre o DataFrame, incluindo o tipo de dados de cada coluna e se há valores nulos.\n",
    "\n",
    "- `df.describe()`: Calcula estatísticas descritivas para cada coluna numérica, como média, desvio padrão, mínimo e máximo.\n",
    "\n",
    "- `df.shape`: Retorna o número de linhas e colunas no DataFrame.\n",
    "\n",
    "- `df.columns`: Retorna os rótulos das colunas do DataFrame.\n"
   ]
  },
  {
   "cell_type": "markdown",
   "metadata": {},
   "source": [
    "##### Tratamento de Dados Ausentes"
   ]
  },
  {
   "cell_type": "markdown",
   "metadata": {},
   "source": [
    "- `df.isnull()`: Retorna um DataFrame booleano indicando quais valores são nulos.\n",
    "\n",
    "- `df.dropna()`: Remove linhas ou colunas com valores nulos.\n",
    "\n",
    "- `df.fillna()`: Preenche os valores nulos com um valor específico.\n",
    "\n",
    "- `df.interpolate()`: Realiza a interpolação de valores nulos para preenchê-los com valores aproximados.\n"
   ]
  },
  {
   "cell_type": "markdown",
   "metadata": {},
   "source": [
    "##### Manipulação de Colunas e Linhas:"
   ]
  },
  {
   "cell_type": "markdown",
   "metadata": {},
   "source": [
    "- `df.drop()`: Remove colunas ou linhas especificadas.\n",
    "\n",
    "- `df.rename()`: Renomeia colunas ou índices.\n",
    "\n",
    "- `df.sort_values()`: Ordena o DataFrame com base nos valores de uma ou mais colunas.\n",
    "\n",
    "- `df.groupby()`: Agrupa os dados com base em uma ou mais colunas.\n"
   ]
  },
  {
   "cell_type": "markdown",
   "metadata": {},
   "source": [
    "##### Dados estatísticos"
   ]
  },
  {
   "cell_type": "markdown",
   "metadata": {},
   "source": [
    "- `df.min()`, `df.max()`: Retorna o valor mínimo e máximo de cada coluna.\n",
    "\n",
    "- `df.mean()`, `df.std()`: Retorna a média e o desvio padrão de cada coluna."
   ]
  },
  {
   "cell_type": "markdown",
   "metadata": {},
   "source": [
    "### Funções para a Criação do DataFame"
   ]
  },
  {
   "cell_type": "markdown",
   "metadata": {},
   "source": [
    "A função `lista_de_adjacencia` é utilizada em conjunto com a função `dados_vértices` para criar um dataframe no formato CSV. A função principal responsável por essa criação é a `criar_base_dados`.\n"
   ]
  },
  {
   "cell_type": "markdown",
   "metadata": {},
   "source": [
    "##### Lista de Adjacência"
   ]
  },
  {
   "cell_type": "code",
   "execution_count": 68,
   "metadata": {},
   "outputs": [],
   "source": [
    "def lista_de_adjacencia(arquivo: str) -> dict:\n",
    "    \"\"\"\n",
    "    A função cria uma lista de adjacencia traves de um dicionario, onde as palavras chaves\n",
    "    do dicionario são vertices. Cada vertice possui uma lista com uma tupla == (Vertice_adjacente, Peso). \n",
    "    Por fim, ela imprime e retorna esse dicionário.\n",
    "\n",
    "    >>> lista_de_adjacencia(\"grafo_1.txt\")\n",
    "    Dicinario: {'1': [('2', 10.0)], '2': [('1', 10.0), ('2', -1.0), ('3', -1.0), ('4', 0.0), ('5', -3.0)], '3': [('2', -1.0)], '4': [('2', 0.0)], '5': [('2', -3.0)]}\n",
    "\n",
    "    >>> lista_de_adjacencia(\"grafo_2.txt\")\n",
    "    Dicinario: {'A': [('B', 1.0)], 'B': [('A', 0.0), ('B', -1.0), ('C', 1.0), ('D', 1.0), ('E', -1.0)], 'C': [('B', 0.0)], 'D': [('B', -1.0)], 'E': [('B', 1.0)]}\n",
    "    \"\"\"\n",
    "\n",
    "    # Abrindo arquivo\n",
    "    file = open(arquivo, 'r')\n",
    "    lista = file.readlines() \n",
    "\n",
    "    # Dicionário com a lista de adjacência\n",
    "    listaDeAdjacencia = {} \n",
    "\n",
    "    # Guardando e removendo os dados da linha 1\n",
    "    linha_1 = lista[0].split()\n",
    "    lista.remove(lista[0])\n",
    "    \n",
    "    # Percorre cada linha do arquivo.txt com base na quantidade de arestas\n",
    "    for i in range(int(linha_1[1])): \n",
    "        \n",
    "        linha = lista[i].split() # Separando os 3 dados da linha em uma lista\n",
    "\n",
    "        #conferindo se o vertice já existe no dicionário. Caso não, cria uma chave para ele.\n",
    "        if linha[0] not in listaDeAdjacencia:\n",
    "            listaDeAdjacencia[linha[0]] = []\n",
    "        if linha[1] not in listaDeAdjacencia:\n",
    "            listaDeAdjacencia[linha[1]] = []\n",
    "\n",
    "        # Adicionado aresta\n",
    "        if (linha[0] != linha[1]): \n",
    "            listaDeAdjacencia[linha[0]].append((linha[1], float(linha[2])))\n",
    "            listaDeAdjacencia[linha[1]].append((linha[0], float(linha[2])))\n",
    "        else: # Caso tenha laço\n",
    "            listaDeAdjacencia[linha[1]].append((linha[0], float(linha[2])))\n",
    "        \n",
    "    file.close() #fechando o arquivo\n",
    "\n",
    "    # Ordenando as listas do dicionário\n",
    "    for x in listaDeAdjacencia.keys(): \n",
    "            listaDeAdjacencia[x].sort()\n",
    "\n",
    "    return listaDeAdjacencia"
   ]
  },
  {
   "cell_type": "code",
   "execution_count": 69,
   "metadata": {},
   "outputs": [
    {
     "data": {
      "text/plain": [
       "{'22': [('1', -1.0),\n",
       "  ('10', 0.0),\n",
       "  ('12', -1.0),\n",
       "  ('13', -1.0),\n",
       "  ('14', 1.0),\n",
       "  ('15', 1.0),\n",
       "  ('16', 1.0),\n",
       "  ('17', 0.0),\n",
       "  ('18', 1.0),\n",
       "  ('2', 0.0),\n",
       "  ('20', -1.0),\n",
       "  ('21', 0.0),\n",
       "  ('23', 0.0),\n",
       "  ('24', 0.0),\n",
       "  ('26', 1.0),\n",
       "  ('27', 0.0),\n",
       "  ('28', 1.0),\n",
       "  ('29', 0.0),\n",
       "  ('30', -1.0),\n",
       "  ('31', 0.0),\n",
       "  ('36', 0.0),\n",
       "  ('37', 1.0),\n",
       "  ('38', 1.0),\n",
       "  ('4', 0.0),\n",
       "  ('40', -1.0),\n",
       "  ('44', 0.0),\n",
       "  ('45', 1.0),\n",
       "  ('47', 1.0),\n",
       "  ('48', -1.0),\n",
       "  ('49', 1.0),\n",
       "  ('5', 0.0),\n",
       "  ('50', -1.0)],\n",
       " '31': [('11', 1.0),\n",
       "  ('14', 1.0),\n",
       "  ('15', 1.0),\n",
       "  ('16', 1.0),\n",
       "  ('17', 0.0),\n",
       "  ('19', -1.0),\n",
       "  ('2', -1.0),\n",
       "  ('21', -1.0),\n",
       "  ('22', 0.0),\n",
       "  ('23', -1.0),\n",
       "  ('26', 1.0),\n",
       "  ('27', 0.0),\n",
       "  ('28', 1.0),\n",
       "  ('29', -1.0),\n",
       "  ('3', 0.0),\n",
       "  ('30', -1.0),\n",
       "  ('32', 1.0),\n",
       "  ('33', -1.0),\n",
       "  ('34', 0.0),\n",
       "  ('35', 1.0),\n",
       "  ('37', 1.0),\n",
       "  ('38', 1.0),\n",
       "  ('39', 1.0),\n",
       "  ('4', 0.0),\n",
       "  ('40', -1.0),\n",
       "  ('42', 1.0),\n",
       "  ('43', 1.0),\n",
       "  ('45', 1.0),\n",
       "  ('46', 1.0),\n",
       "  ('5', -1.0),\n",
       "  ('50', 0.0),\n",
       "  ('9', 1.0)],\n",
       " '45': [('11', 0.0),\n",
       "  ('12', 1.0),\n",
       "  ('13', 1.0),\n",
       "  ('14', 0.0),\n",
       "  ('17', 1.0),\n",
       "  ('18', -1.0),\n",
       "  ('19', 1.0),\n",
       "  ('21', 1.0),\n",
       "  ('22', 1.0),\n",
       "  ('23', 1.0),\n",
       "  ('26', 0.0),\n",
       "  ('27', 1.0),\n",
       "  ('29', 1.0),\n",
       "  ('3', 1.0),\n",
       "  ('30', 1.0),\n",
       "  ('31', 1.0),\n",
       "  ('34', 1.0),\n",
       "  ('35', -1.0),\n",
       "  ('36', 1.0),\n",
       "  ('37', -1.0),\n",
       "  ('4', 1.0),\n",
       "  ('40', 1.0),\n",
       "  ('41', 1.0),\n",
       "  ('44', 1.0),\n",
       "  ('47', -1.0),\n",
       "  ('5', 1.0),\n",
       "  ('50', 1.0),\n",
       "  ('9', 0.0)],\n",
       " '30': [('1', 0.0),\n",
       "  ('10', -1.0),\n",
       "  ('12', -1.0),\n",
       "  ('13', 0.0),\n",
       "  ('14', 1.0),\n",
       "  ('16', 1.0),\n",
       "  ('17', 0.0),\n",
       "  ('19', -1.0),\n",
       "  ('2', -1.0),\n",
       "  ('20', 0.0),\n",
       "  ('21', -1.0),\n",
       "  ('22', -1.0),\n",
       "  ('24', 0.0),\n",
       "  ('28', 1.0),\n",
       "  ('31', -1.0),\n",
       "  ('33', 0.0),\n",
       "  ('35', 1.0),\n",
       "  ('36', 0.0),\n",
       "  ('37', 1.0),\n",
       "  ('40', -1.0),\n",
       "  ('41', 0.0),\n",
       "  ('45', 1.0),\n",
       "  ('46', 1.0),\n",
       "  ('49', 1.0),\n",
       "  ('50', -1.0),\n",
       "  ('7', 1.0),\n",
       "  ('9', 1.0)],\n",
       " '44': [('1', -1.0),\n",
       "  ('11', 1.0),\n",
       "  ('12', -1.0),\n",
       "  ('14', 1.0),\n",
       "  ('16', 1.0),\n",
       "  ('18', 1.0),\n",
       "  ('19', -1.0),\n",
       "  ('2', 0.0),\n",
       "  ('20', 0.0),\n",
       "  ('21', -1.0),\n",
       "  ('22', 0.0),\n",
       "  ('23', 0.0),\n",
       "  ('25', -1.0),\n",
       "  ('26', 1.0),\n",
       "  ('27', -1.0),\n",
       "  ('28', 1.0),\n",
       "  ('3', 0.0),\n",
       "  ('32', 1.0),\n",
       "  ('34', -1.0),\n",
       "  ('36', -1.0),\n",
       "  ('37', 1.0),\n",
       "  ('38', 1.0),\n",
       "  ('4', -1.0),\n",
       "  ('40', 0.0),\n",
       "  ('41', 0.0),\n",
       "  ('42', 1.0),\n",
       "  ('43', 1.0),\n",
       "  ('45', 1.0),\n",
       "  ('46', 1.0),\n",
       "  ('48', 0.0),\n",
       "  ('50', -1.0),\n",
       "  ('7', 1.0),\n",
       "  ('8', 1.0),\n",
       "  ('9', 1.0)],\n",
       " '38': [('10', 1.0),\n",
       "  ('12', 1.0),\n",
       "  ('17', 1.0),\n",
       "  ('19', 1.0),\n",
       "  ('2', 1.0),\n",
       "  ('20', 1.0),\n",
       "  ('22', 1.0),\n",
       "  ('23', 1.0),\n",
       "  ('25', 1.0),\n",
       "  ('27', 1.0),\n",
       "  ('28', -1.0),\n",
       "  ('3', 1.0),\n",
       "  ('31', 1.0),\n",
       "  ('32', 0.0),\n",
       "  ('33', 1.0),\n",
       "  ('34', 1.0),\n",
       "  ('35', 0.0),\n",
       "  ('39', 0.0),\n",
       "  ('41', 1.0),\n",
       "  ('42', 0.0),\n",
       "  ('43', -1.0),\n",
       "  ('44', 1.0),\n",
       "  ('48', 1.0),\n",
       "  ('50', 1.0),\n",
       "  ('6', 1.0),\n",
       "  ('9', 0.0)],\n",
       " '27': [('10', -1.0),\n",
       "  ('11', 1.0),\n",
       "  ('13', -1.0),\n",
       "  ('14', 1.0),\n",
       "  ('15', 1.0),\n",
       "  ('16', 1.0),\n",
       "  ('18', 1.0),\n",
       "  ('2', 0.0),\n",
       "  ('20', -1.0),\n",
       "  ('22', 0.0),\n",
       "  ('23', -1.0),\n",
       "  ('24', -1.0),\n",
       "  ('29', -1.0),\n",
       "  ('31', 0.0),\n",
       "  ('32', 1.0),\n",
       "  ('33', -1.0),\n",
       "  ('34', -1.0),\n",
       "  ('35', 1.0),\n",
       "  ('36', -1.0),\n",
       "  ('38', 1.0),\n",
       "  ('40', -1.0),\n",
       "  ('42', 1.0),\n",
       "  ('43', 1.0),\n",
       "  ('44', -1.0),\n",
       "  ('45', 1.0),\n",
       "  ('46', 1.0),\n",
       "  ('49', 1.0),\n",
       "  ('7', 1.0),\n",
       "  ('8', 1.0)],\n",
       " '1': [('13', -1.0),\n",
       "  ('18', 1.0),\n",
       "  ('19', -1.0),\n",
       "  ('2', -1.0),\n",
       "  ('22', -1.0),\n",
       "  ('23', -1.0),\n",
       "  ('24', -1.0),\n",
       "  ('25', 0.0),\n",
       "  ('26', 1.0),\n",
       "  ('29', -1.0),\n",
       "  ('3', 0.0),\n",
       "  ('30', 0.0),\n",
       "  ('32', 1.0),\n",
       "  ('34', 0.0),\n",
       "  ('36', 0.0),\n",
       "  ('39', 1.0),\n",
       "  ('40', -1.0),\n",
       "  ('41', -1.0),\n",
       "  ('42', 1.0),\n",
       "  ('43', 1.0),\n",
       "  ('44', -1.0),\n",
       "  ('46', 1.0),\n",
       "  ('49', 1.0),\n",
       "  ('5', 0.0),\n",
       "  ('6', -1.0),\n",
       "  ('7', 1.0)],\n",
       " '23': [('1', -1.0),\n",
       "  ('10', 0.0),\n",
       "  ('11', 1.0),\n",
       "  ('12', 0.0),\n",
       "  ('14', 1.0),\n",
       "  ('15', 1.0),\n",
       "  ('16', 1.0),\n",
       "  ('17', 0.0),\n",
       "  ('19', 0.0),\n",
       "  ('2', 0.0),\n",
       "  ('20', 0.0),\n",
       "  ('21', -1.0),\n",
       "  ('22', 0.0),\n",
       "  ('25', 0.0),\n",
       "  ('27', -1.0),\n",
       "  ('28', 1.0),\n",
       "  ('29', 0.0),\n",
       "  ('31', -1.0),\n",
       "  ('32', 1.0),\n",
       "  ('33', 0.0),\n",
       "  ('35', 1.0),\n",
       "  ('36', 0.0),\n",
       "  ('37', 1.0),\n",
       "  ('38', 1.0),\n",
       "  ('4', 0.0),\n",
       "  ('40', 0.0),\n",
       "  ('41', 0.0),\n",
       "  ('42', 1.0),\n",
       "  ('44', 0.0),\n",
       "  ('45', 1.0),\n",
       "  ('46', 1.0),\n",
       "  ('48', -1.0),\n",
       "  ('49', 1.0),\n",
       "  ('5', -1.0),\n",
       "  ('50', 0.0),\n",
       "  ('6', -1.0),\n",
       "  ('7', 1.0),\n",
       "  ('8', 1.0),\n",
       "  ('9', 1.0)],\n",
       " '9': [('13', 1.0),\n",
       "  ('21', 1.0),\n",
       "  ('23', 1.0),\n",
       "  ('24', 1.0),\n",
       "  ('25', 1.0),\n",
       "  ('28', -1.0),\n",
       "  ('29', 1.0),\n",
       "  ('30', 1.0),\n",
       "  ('31', 1.0),\n",
       "  ('32', -1.0),\n",
       "  ('34', 1.0),\n",
       "  ('37', -1.0),\n",
       "  ('38', 0.0),\n",
       "  ('39', 0.0),\n",
       "  ('41', 1.0),\n",
       "  ('42', 0.0),\n",
       "  ('43', -1.0),\n",
       "  ('44', 1.0),\n",
       "  ('45', 0.0),\n",
       "  ('48', 1.0),\n",
       "  ('49', -1.0),\n",
       "  ('5', 1.0),\n",
       "  ('50', 1.0),\n",
       "  ('6', 1.0)],\n",
       " '6': [('1', -1.0),\n",
       "  ('11', 1.0),\n",
       "  ('16', 1.0),\n",
       "  ('17', -1.0),\n",
       "  ('2', 0.0),\n",
       "  ('20', -1.0),\n",
       "  ('23', -1.0),\n",
       "  ('24', 0.0),\n",
       "  ('25', 0.0),\n",
       "  ('26', 1.0),\n",
       "  ('29', 0.0),\n",
       "  ('3', -1.0),\n",
       "  ('32', 1.0),\n",
       "  ('34', 0.0),\n",
       "  ('36', -1.0),\n",
       "  ('37', 1.0),\n",
       "  ('38', 1.0),\n",
       "  ('42', 1.0),\n",
       "  ('46', 1.0),\n",
       "  ('47', 1.0),\n",
       "  ('5', 0.0),\n",
       "  ('50', -1.0),\n",
       "  ('7', 1.0),\n",
       "  ('9', 1.0)],\n",
       " '24': [('1', -1.0),\n",
       "  ('10', 0.0),\n",
       "  ('13', 0.0),\n",
       "  ('14', 1.0),\n",
       "  ('15', 1.0),\n",
       "  ('16', 1.0),\n",
       "  ('2', -1.0),\n",
       "  ('22', 0.0),\n",
       "  ('26', 1.0),\n",
       "  ('27', -1.0),\n",
       "  ('28', 1.0),\n",
       "  ('29', -1.0),\n",
       "  ('3', -1.0),\n",
       "  ('30', 0.0),\n",
       "  ('32', 1.0),\n",
       "  ('35', 1.0),\n",
       "  ('36', 0.0),\n",
       "  ('43', 1.0),\n",
       "  ('47', 1.0),\n",
       "  ('48', -1.0),\n",
       "  ('5', 0.0),\n",
       "  ('6', 0.0),\n",
       "  ('8', 1.0),\n",
       "  ('9', 1.0)],\n",
       " '39': [('1', 1.0),\n",
       "  ('10', 1.0),\n",
       "  ('12', 1.0),\n",
       "  ('16', 0.0),\n",
       "  ('17', 1.0),\n",
       "  ('18', -1.0),\n",
       "  ('19', 1.0),\n",
       "  ('2', 1.0),\n",
       "  ('21', 1.0),\n",
       "  ('25', 1.0),\n",
       "  ('26', -1.0),\n",
       "  ('3', 1.0),\n",
       "  ('31', 1.0),\n",
       "  ('37', 0.0),\n",
       "  ('38', 0.0),\n",
       "  ('4', 1.0),\n",
       "  ('40', 1.0),\n",
       "  ('5', 1.0),\n",
       "  ('8', 0.0),\n",
       "  ('9', 0.0)],\n",
       " '37': [('10', 1.0),\n",
       "  ('11', -1.0),\n",
       "  ('12', 1.0),\n",
       "  ('13', 1.0),\n",
       "  ('14', -1.0),\n",
       "  ('16', -1.0),\n",
       "  ('18', -1.0),\n",
       "  ('19', 1.0),\n",
       "  ('2', 1.0),\n",
       "  ('22', 1.0),\n",
       "  ('23', 1.0),\n",
       "  ('26', 0.0),\n",
       "  ('28', 0.0),\n",
       "  ('30', 1.0),\n",
       "  ('31', 1.0),\n",
       "  ('34', 1.0),\n",
       "  ('35', 0.0),\n",
       "  ('39', 0.0),\n",
       "  ('42', -1.0),\n",
       "  ('43', -1.0),\n",
       "  ('44', 1.0),\n",
       "  ('45', -1.0),\n",
       "  ('46', 0.0),\n",
       "  ('5', 1.0),\n",
       "  ('50', 1.0),\n",
       "  ('6', 1.0),\n",
       "  ('7', 0.0),\n",
       "  ('8', 0.0),\n",
       "  ('9', -1.0)],\n",
       " '48': [('11', 1.0),\n",
       "  ('13', 0.0),\n",
       "  ('18', 1.0),\n",
       "  ('2', -1.0),\n",
       "  ('20', 0.0),\n",
       "  ('21', 0.0),\n",
       "  ('22', -1.0),\n",
       "  ('23', -1.0),\n",
       "  ('24', -1.0),\n",
       "  ('26', 1.0),\n",
       "  ('28', 1.0),\n",
       "  ('3', -1.0),\n",
       "  ('32', 1.0),\n",
       "  ('33', 0.0),\n",
       "  ('34', 0.0),\n",
       "  ('36', -1.0),\n",
       "  ('38', 1.0),\n",
       "  ('4', -1.0),\n",
       "  ('41', -1.0),\n",
       "  ('44', 0.0),\n",
       "  ('47', 1.0),\n",
       "  ('5', 0.0),\n",
       "  ('50', -1.0),\n",
       "  ('7', 1.0),\n",
       "  ('8', 1.0),\n",
       "  ('9', 1.0)],\n",
       " '32': [('1', 1.0),\n",
       "  ('10', 1.0),\n",
       "  ('13', 1.0),\n",
       "  ('14', -1.0),\n",
       "  ('15', 0.0),\n",
       "  ('17', 1.0),\n",
       "  ('2', 1.0),\n",
       "  ('21', 1.0),\n",
       "  ('23', 1.0),\n",
       "  ('24', 1.0),\n",
       "  ('27', 1.0),\n",
       "  ('3', 1.0),\n",
       "  ('31', 1.0),\n",
       "  ('34', 1.0),\n",
       "  ('38', 0.0),\n",
       "  ('4', 1.0),\n",
       "  ('40', 1.0),\n",
       "  ('43', -1.0),\n",
       "  ('44', 1.0),\n",
       "  ('46', 0.0),\n",
       "  ('47', 0.0),\n",
       "  ('48', 1.0),\n",
       "  ('5', 1.0),\n",
       "  ('50', 1.0),\n",
       "  ('6', 1.0),\n",
       "  ('8', 0.0),\n",
       "  ('9', -1.0)],\n",
       " '33': [('11', 1.0),\n",
       "  ('12', -1.0),\n",
       "  ('18', 1.0),\n",
       "  ('2', 0.0),\n",
       "  ('21', 0.0),\n",
       "  ('23', 0.0),\n",
       "  ('26', 1.0),\n",
       "  ('27', -1.0),\n",
       "  ('28', 1.0),\n",
       "  ('3', 0.0),\n",
       "  ('30', 0.0),\n",
       "  ('31', -1.0),\n",
       "  ('34', 0.0),\n",
       "  ('38', 1.0),\n",
       "  ('4', 0.0),\n",
       "  ('40', 0.0),\n",
       "  ('41', -1.0),\n",
       "  ('43', 1.0),\n",
       "  ('47', 1.0),\n",
       "  ('48', 0.0),\n",
       "  ('5', -1.0),\n",
       "  ('50', 0.0),\n",
       "  ('7', 1.0)],\n",
       " '15': [('10', 1.0),\n",
       "  ('11', 0.0),\n",
       "  ('12', 1.0),\n",
       "  ('13', 1.0),\n",
       "  ('14', -1.0),\n",
       "  ('16', -1.0),\n",
       "  ('17', 1.0),\n",
       "  ('18', 0.0),\n",
       "  ('19', 1.0),\n",
       "  ('2', 1.0),\n",
       "  ('20', 1.0),\n",
       "  ('21', 1.0),\n",
       "  ('22', 1.0),\n",
       "  ('23', 1.0),\n",
       "  ('24', 1.0),\n",
       "  ('25', 1.0),\n",
       "  ('27', 1.0),\n",
       "  ('28', 0.0),\n",
       "  ('29', 1.0),\n",
       "  ('31', 1.0),\n",
       "  ('32', 0.0),\n",
       "  ('34', 1.0),\n",
       "  ('35', -1.0),\n",
       "  ('36', 1.0),\n",
       "  ('40', 1.0),\n",
       "  ('41', 1.0),\n",
       "  ('42', 0.0),\n",
       "  ('43', 0.0),\n",
       "  ('47', 0.0),\n",
       "  ('49', 0.0),\n",
       "  ('5', 1.0),\n",
       "  ('8', -1.0)],\n",
       " '10': [('11', 1.0),\n",
       "  ('13', 0.0),\n",
       "  ('15', 1.0),\n",
       "  ('17', 0.0),\n",
       "  ('18', 1.0),\n",
       "  ('19', 0.0),\n",
       "  ('20', 0.0),\n",
       "  ('22', 0.0),\n",
       "  ('23', 0.0),\n",
       "  ('24', 0.0),\n",
       "  ('27', -1.0),\n",
       "  ('28', 1.0),\n",
       "  ('29', -1.0),\n",
       "  ('30', -1.0),\n",
       "  ('32', 1.0),\n",
       "  ('34', 0.0),\n",
       "  ('37', 1.0),\n",
       "  ('38', 1.0),\n",
       "  ('39', 1.0),\n",
       "  ('41', 0.0),\n",
       "  ('42', 1.0),\n",
       "  ('47', 1.0),\n",
       "  ('49', 1.0),\n",
       "  ('5', 0.0)],\n",
       " '29': [('1', -1.0),\n",
       "  ('10', -1.0),\n",
       "  ('11', 1.0),\n",
       "  ('12', -1.0),\n",
       "  ('15', 1.0),\n",
       "  ('16', 1.0),\n",
       "  ('21', -1.0),\n",
       "  ('22', 0.0),\n",
       "  ('23', 0.0),\n",
       "  ('24', -1.0),\n",
       "  ('25', 0.0),\n",
       "  ('27', -1.0),\n",
       "  ('28', 1.0),\n",
       "  ('3', 0.0),\n",
       "  ('31', -1.0),\n",
       "  ('34', 0.0),\n",
       "  ('35', 1.0),\n",
       "  ('4', -1.0),\n",
       "  ('40', -1.0),\n",
       "  ('42', 1.0),\n",
       "  ('43', 1.0),\n",
       "  ('45', 1.0),\n",
       "  ('46', 1.0),\n",
       "  ('50', -1.0),\n",
       "  ('6', 0.0),\n",
       "  ('8', 1.0),\n",
       "  ('9', 1.0)],\n",
       " '35': [('15', -1.0),\n",
       "  ('17', 1.0),\n",
       "  ('19', 1.0),\n",
       "  ('23', 1.0),\n",
       "  ('24', 1.0),\n",
       "  ('25', 1.0),\n",
       "  ('26', -1.0),\n",
       "  ('27', 1.0),\n",
       "  ('28', -1.0),\n",
       "  ('29', 1.0),\n",
       "  ('3', 1.0),\n",
       "  ('30', 1.0),\n",
       "  ('31', 1.0),\n",
       "  ('34', 1.0),\n",
       "  ('37', 0.0),\n",
       "  ('38', 0.0),\n",
       "  ('42', -1.0),\n",
       "  ('43', -1.0),\n",
       "  ('45', -1.0),\n",
       "  ('46', -1.0),\n",
       "  ('7', -1.0),\n",
       "  ('8', -1.0)],\n",
       " '20': [('10', 0.0),\n",
       "  ('11', 1.0),\n",
       "  ('14', 1.0),\n",
       "  ('15', 1.0),\n",
       "  ('16', 1.0),\n",
       "  ('17', -1.0),\n",
       "  ('18', 1.0),\n",
       "  ('19', -1.0),\n",
       "  ('21', 0.0),\n",
       "  ('22', -1.0),\n",
       "  ('23', 0.0),\n",
       "  ('26', 1.0),\n",
       "  ('27', -1.0),\n",
       "  ('28', 1.0),\n",
       "  ('3', -1.0),\n",
       "  ('30', 0.0),\n",
       "  ('34', -1.0),\n",
       "  ('36', 0.0),\n",
       "  ('38', 1.0),\n",
       "  ('40', 0.0),\n",
       "  ('41', -1.0),\n",
       "  ('43', 1.0),\n",
       "  ('44', 0.0),\n",
       "  ('46', 1.0),\n",
       "  ('48', 0.0),\n",
       "  ('49', 1.0),\n",
       "  ('50', -1.0),\n",
       "  ('6', -1.0),\n",
       "  ('7', 1.0)],\n",
       " '26': [('1', 1.0),\n",
       "  ('11', 0.0),\n",
       "  ('13', 1.0),\n",
       "  ('14', -1.0),\n",
       "  ('17', 1.0),\n",
       "  ('18', 0.0),\n",
       "  ('19', 1.0),\n",
       "  ('2', 1.0),\n",
       "  ('20', 1.0),\n",
       "  ('22', 1.0),\n",
       "  ('24', 1.0),\n",
       "  ('28', -1.0),\n",
       "  ('31', 1.0),\n",
       "  ('33', 1.0),\n",
       "  ('35', -1.0),\n",
       "  ('36', 1.0),\n",
       "  ('37', 0.0),\n",
       "  ('39', -1.0),\n",
       "  ('41', 1.0),\n",
       "  ('42', -1.0),\n",
       "  ('44', 1.0),\n",
       "  ('45', 0.0),\n",
       "  ('48', 1.0),\n",
       "  ('50', 1.0),\n",
       "  ('6', 1.0),\n",
       "  ('8', -1.0)],\n",
       " '16': [('12', 1.0),\n",
       "  ('15', -1.0),\n",
       "  ('17', 1.0),\n",
       "  ('19', 1.0),\n",
       "  ('20', 1.0),\n",
       "  ('21', 1.0),\n",
       "  ('22', 1.0),\n",
       "  ('23', 1.0),\n",
       "  ('24', 1.0),\n",
       "  ('27', 1.0),\n",
       "  ('28', 0.0),\n",
       "  ('29', 1.0),\n",
       "  ('30', 1.0),\n",
       "  ('31', 1.0),\n",
       "  ('36', 1.0),\n",
       "  ('37', -1.0),\n",
       "  ('39', 0.0),\n",
       "  ('4', 1.0),\n",
       "  ('43', -1.0),\n",
       "  ('44', 1.0),\n",
       "  ('46', -1.0),\n",
       "  ('47', 0.0),\n",
       "  ('49', 0.0),\n",
       "  ('5', 1.0),\n",
       "  ('6', 1.0)],\n",
       " '11': [('10', 1.0),\n",
       "  ('12', 1.0),\n",
       "  ('14', -1.0),\n",
       "  ('15', 0.0),\n",
       "  ('18', -1.0),\n",
       "  ('2', 1.0),\n",
       "  ('20', 1.0),\n",
       "  ('21', 1.0),\n",
       "  ('23', 1.0),\n",
       "  ('26', 0.0),\n",
       "  ('27', 1.0),\n",
       "  ('28', 0.0),\n",
       "  ('29', 1.0),\n",
       "  ('3', 1.0),\n",
       "  ('31', 1.0),\n",
       "  ('33', 1.0),\n",
       "  ('34', 1.0),\n",
       "  ('37', -1.0),\n",
       "  ('40', 1.0),\n",
       "  ('41', 1.0),\n",
       "  ('43', 0.0),\n",
       "  ('44', 1.0),\n",
       "  ('45', 0.0),\n",
       "  ('46', 0.0),\n",
       "  ('48', 1.0),\n",
       "  ('49', 0.0),\n",
       "  ('5', 1.0),\n",
       "  ('6', 1.0),\n",
       "  ('7', 0.0),\n",
       "  ('8', -1.0)],\n",
       " '46': [('1', 1.0),\n",
       "  ('11', 0.0),\n",
       "  ('12', 1.0),\n",
       "  ('14', 0.0),\n",
       "  ('16', -1.0),\n",
       "  ('17', 1.0),\n",
       "  ('18', 0.0),\n",
       "  ('19', 1.0),\n",
       "  ('2', 1.0),\n",
       "  ('20', 1.0),\n",
       "  ('21', 1.0),\n",
       "  ('23', 1.0),\n",
       "  ('27', 1.0),\n",
       "  ('28', -1.0),\n",
       "  ('29', 1.0),\n",
       "  ('3', 1.0),\n",
       "  ('30', 1.0),\n",
       "  ('31', 1.0),\n",
       "  ('32', 0.0),\n",
       "  ('35', -1.0),\n",
       "  ('36', 1.0),\n",
       "  ('37', 0.0),\n",
       "  ('4', 1.0),\n",
       "  ('41', 1.0),\n",
       "  ('43', 0.0),\n",
       "  ('44', 1.0),\n",
       "  ('47', 0.0),\n",
       "  ('49', -1.0),\n",
       "  ('5', 1.0),\n",
       "  ('50', 1.0),\n",
       "  ('6', 1.0),\n",
       "  ('8', -1.0)],\n",
       " '17': [('10', 0.0),\n",
       "  ('13', -1.0),\n",
       "  ('14', 1.0),\n",
       "  ('15', 1.0),\n",
       "  ('16', 1.0),\n",
       "  ('18', 1.0),\n",
       "  ('2', 0.0),\n",
       "  ('20', -1.0),\n",
       "  ('21', -1.0),\n",
       "  ('22', 0.0),\n",
       "  ('23', 0.0),\n",
       "  ('25', -1.0),\n",
       "  ('26', 1.0),\n",
       "  ('30', 0.0),\n",
       "  ('31', 0.0),\n",
       "  ('32', 1.0),\n",
       "  ('34', -1.0),\n",
       "  ('35', 1.0),\n",
       "  ('36', -1.0),\n",
       "  ('38', 1.0),\n",
       "  ('39', 1.0),\n",
       "  ('4', -1.0),\n",
       "  ('40', -1.0),\n",
       "  ('41', 0.0),\n",
       "  ('42', 1.0),\n",
       "  ('43', 1.0),\n",
       "  ('45', 1.0),\n",
       "  ('46', 1.0),\n",
       "  ('47', 1.0),\n",
       "  ('5', 0.0),\n",
       "  ('50', 0.0),\n",
       "  ('6', -1.0)],\n",
       " '34': [('1', 0.0),\n",
       "  ('10', 0.0),\n",
       "  ('11', 1.0),\n",
       "  ('12', -1.0),\n",
       "  ('13', -1.0),\n",
       "  ('14', 1.0),\n",
       "  ('15', 1.0),\n",
       "  ('17', -1.0),\n",
       "  ('18', 1.0),\n",
       "  ('20', -1.0),\n",
       "  ('21', -1.0),\n",
       "  ('25', -1.0),\n",
       "  ('27', -1.0),\n",
       "  ('28', 1.0),\n",
       "  ('29', 0.0),\n",
       "  ('31', 0.0),\n",
       "  ('32', 1.0),\n",
       "  ('33', 0.0),\n",
       "  ('35', 1.0),\n",
       "  ('37', 1.0),\n",
       "  ('38', 1.0),\n",
       "  ('4', 0.0),\n",
       "  ('41', 0.0),\n",
       "  ('42', 1.0),\n",
       "  ('43', 1.0),\n",
       "  ('44', -1.0),\n",
       "  ('45', 1.0),\n",
       "  ('47', 1.0),\n",
       "  ('48', 0.0),\n",
       "  ('50', 0.0),\n",
       "  ('6', 0.0),\n",
       "  ('9', 1.0)],\n",
       " '3': [('1', 0.0),\n",
       "  ('11', 1.0),\n",
       "  ('12', -1.0),\n",
       "  ('14', 1.0),\n",
       "  ('18', 1.0),\n",
       "  ('19', -1.0),\n",
       "  ('2', -1.0),\n",
       "  ('20', -1.0),\n",
       "  ('21', -1.0),\n",
       "  ('24', -1.0),\n",
       "  ('25', 0.0),\n",
       "  ('28', 1.0),\n",
       "  ('29', 0.0),\n",
       "  ('31', 0.0),\n",
       "  ('32', 1.0),\n",
       "  ('33', 0.0),\n",
       "  ('35', 1.0),\n",
       "  ('38', 1.0),\n",
       "  ('39', 1.0),\n",
       "  ('40', 0.0),\n",
       "  ('43', 1.0),\n",
       "  ('44', 0.0),\n",
       "  ('45', 1.0),\n",
       "  ('46', 1.0),\n",
       "  ('47', 1.0),\n",
       "  ('48', -1.0),\n",
       "  ('6', -1.0),\n",
       "  ('8', 1.0)],\n",
       " '43': [('1', 1.0),\n",
       "  ('11', 0.0),\n",
       "  ('13', 1.0),\n",
       "  ('14', 0.0),\n",
       "  ('15', 0.0),\n",
       "  ('16', -1.0),\n",
       "  ('17', 1.0),\n",
       "  ('18', 0.0),\n",
       "  ('19', 1.0),\n",
       "  ('20', 1.0),\n",
       "  ('21', 1.0),\n",
       "  ('24', 1.0),\n",
       "  ('25', 1.0),\n",
       "  ('27', 1.0),\n",
       "  ('29', 1.0),\n",
       "  ('3', 1.0),\n",
       "  ('31', 1.0),\n",
       "  ('32', -1.0),\n",
       "  ('33', 1.0),\n",
       "  ('34', 1.0),\n",
       "  ('35', -1.0),\n",
       "  ('36', 1.0),\n",
       "  ('37', -1.0),\n",
       "  ('38', -1.0),\n",
       "  ('4', 1.0),\n",
       "  ('40', 1.0),\n",
       "  ('41', 1.0),\n",
       "  ('44', 1.0),\n",
       "  ('46', 0.0),\n",
       "  ('47', -1.0),\n",
       "  ('50', 1.0),\n",
       "  ('8', 0.0),\n",
       "  ('9', -1.0)],\n",
       " '21': [('11', 1.0),\n",
       "  ('12', -1.0),\n",
       "  ('13', -1.0),\n",
       "  ('14', 1.0),\n",
       "  ('15', 1.0),\n",
       "  ('16', 1.0),\n",
       "  ('17', -1.0),\n",
       "  ('18', 1.0),\n",
       "  ('19', -1.0),\n",
       "  ('2', -1.0),\n",
       "  ('20', 0.0),\n",
       "  ('22', 0.0),\n",
       "  ('23', -1.0),\n",
       "  ('29', -1.0),\n",
       "  ('3', -1.0),\n",
       "  ('30', -1.0),\n",
       "  ('31', -1.0),\n",
       "  ('32', 1.0),\n",
       "  ('33', 0.0),\n",
       "  ('34', -1.0),\n",
       "  ('39', 1.0),\n",
       "  ('43', 1.0),\n",
       "  ('44', -1.0),\n",
       "  ('45', 1.0),\n",
       "  ('46', 1.0),\n",
       "  ('47', 1.0),\n",
       "  ('48', 0.0),\n",
       "  ('49', 1.0),\n",
       "  ('5', 0.0),\n",
       "  ('50', -1.0),\n",
       "  ('7', 1.0),\n",
       "  ('8', 1.0),\n",
       "  ('9', 1.0)],\n",
       " '50': [('12', -1.0),\n",
       "  ('13', -1.0),\n",
       "  ('17', 0.0),\n",
       "  ('19', -1.0),\n",
       "  ('2', -1.0),\n",
       "  ('20', -1.0),\n",
       "  ('21', -1.0),\n",
       "  ('22', -1.0),\n",
       "  ('23', 0.0),\n",
       "  ('25', -1.0),\n",
       "  ('26', 1.0),\n",
       "  ('28', 1.0),\n",
       "  ('29', -1.0),\n",
       "  ('30', -1.0),\n",
       "  ('31', 0.0),\n",
       "  ('32', 1.0),\n",
       "  ('33', 0.0),\n",
       "  ('34', 0.0),\n",
       "  ('36', 0.0),\n",
       "  ('37', 1.0),\n",
       "  ('38', 1.0),\n",
       "  ('41', 0.0),\n",
       "  ('43', 1.0),\n",
       "  ('44', -1.0),\n",
       "  ('45', 1.0),\n",
       "  ('46', 1.0),\n",
       "  ('47', 1.0),\n",
       "  ('48', -1.0),\n",
       "  ('6', -1.0),\n",
       "  ('7', 1.0),\n",
       "  ('9', 1.0)],\n",
       " '47': [('10', 1.0),\n",
       "  ('13', 1.0),\n",
       "  ('15', 0.0),\n",
       "  ('16', 0.0),\n",
       "  ('17', 1.0),\n",
       "  ('18', -1.0),\n",
       "  ('19', 1.0),\n",
       "  ('21', 1.0),\n",
       "  ('22', 1.0),\n",
       "  ('24', 1.0),\n",
       "  ('3', 1.0),\n",
       "  ('32', 0.0),\n",
       "  ('33', 1.0),\n",
       "  ('34', 1.0),\n",
       "  ('41', 1.0),\n",
       "  ('42', -1.0),\n",
       "  ('43', -1.0),\n",
       "  ('45', -1.0),\n",
       "  ('46', 0.0),\n",
       "  ('48', 1.0),\n",
       "  ('49', -1.0),\n",
       "  ('50', 1.0),\n",
       "  ('6', 1.0)],\n",
       " '14': [('11', -1.0),\n",
       "  ('12', 1.0),\n",
       "  ('13', 1.0),\n",
       "  ('15', -1.0),\n",
       "  ('17', 1.0),\n",
       "  ('20', 1.0),\n",
       "  ('21', 1.0),\n",
       "  ('22', 1.0),\n",
       "  ('23', 1.0),\n",
       "  ('24', 1.0),\n",
       "  ('26', -1.0),\n",
       "  ('27', 1.0),\n",
       "  ('28', 0.0),\n",
       "  ('3', 1.0),\n",
       "  ('30', 1.0),\n",
       "  ('31', 1.0),\n",
       "  ('32', -1.0),\n",
       "  ('34', 1.0),\n",
       "  ('37', -1.0),\n",
       "  ('41', 1.0),\n",
       "  ('42', 0.0),\n",
       "  ('43', 0.0),\n",
       "  ('44', 1.0),\n",
       "  ('45', 0.0),\n",
       "  ('46', 0.0),\n",
       "  ('49', -1.0),\n",
       "  ('7', -1.0),\n",
       "  ('8', -1.0)],\n",
       " '5': [('1', 0.0),\n",
       "  ('10', 0.0),\n",
       "  ('11', 1.0),\n",
       "  ('13', -1.0),\n",
       "  ('15', 1.0),\n",
       "  ('16', 1.0),\n",
       "  ('17', 0.0),\n",
       "  ('18', 1.0),\n",
       "  ('19', -1.0),\n",
       "  ('21', 0.0),\n",
       "  ('22', 0.0),\n",
       "  ('23', -1.0),\n",
       "  ('24', 0.0),\n",
       "  ('28', 1.0),\n",
       "  ('31', -1.0),\n",
       "  ('32', 1.0),\n",
       "  ('33', -1.0),\n",
       "  ('37', 1.0),\n",
       "  ('39', 1.0),\n",
       "  ('40', 0.0),\n",
       "  ('41', -1.0),\n",
       "  ('45', 1.0),\n",
       "  ('46', 1.0),\n",
       "  ('48', 0.0),\n",
       "  ('49', 1.0),\n",
       "  ('6', 0.0),\n",
       "  ('7', 1.0),\n",
       "  ('9', 1.0)],\n",
       " '18': [('1', 1.0),\n",
       "  ('10', 1.0),\n",
       "  ('11', -1.0),\n",
       "  ('12', 1.0),\n",
       "  ('15', 0.0),\n",
       "  ('17', 1.0),\n",
       "  ('2', 1.0),\n",
       "  ('20', 1.0),\n",
       "  ('21', 1.0),\n",
       "  ('22', 1.0),\n",
       "  ('25', 1.0),\n",
       "  ('26', 0.0),\n",
       "  ('27', 1.0),\n",
       "  ('3', 1.0),\n",
       "  ('33', 1.0),\n",
       "  ('34', 1.0),\n",
       "  ('36', 1.0),\n",
       "  ('37', -1.0),\n",
       "  ('39', -1.0),\n",
       "  ('4', 1.0),\n",
       "  ('40', 1.0),\n",
       "  ('41', 1.0),\n",
       "  ('42', 0.0),\n",
       "  ('43', 0.0),\n",
       "  ('44', 1.0),\n",
       "  ('45', -1.0),\n",
       "  ('46', 0.0),\n",
       "  ('47', -1.0),\n",
       "  ('48', 1.0),\n",
       "  ('49', 0.0),\n",
       "  ('5', 1.0),\n",
       "  ('8', 0.0)],\n",
       " '28': [('10', 1.0),\n",
       "  ('11', 0.0),\n",
       "  ('12', 1.0),\n",
       "  ('13', 1.0),\n",
       "  ('14', 0.0),\n",
       "  ('15', 0.0),\n",
       "  ('16', 0.0),\n",
       "  ('20', 1.0),\n",
       "  ('22', 1.0),\n",
       "  ('23', 1.0),\n",
       "  ('24', 1.0),\n",
       "  ('25', 1.0),\n",
       "  ('26', -1.0),\n",
       "  ('29', 1.0),\n",
       "  ('3', 1.0),\n",
       "  ('30', 1.0),\n",
       "  ('31', 1.0),\n",
       "  ('33', 1.0),\n",
       "  ('34', 1.0),\n",
       "  ('35', -1.0),\n",
       "  ('36', 1.0),\n",
       "  ('37', 0.0),\n",
       "  ('38', -1.0),\n",
       "  ('4', 1.0),\n",
       "  ('42', 0.0),\n",
       "  ('44', 1.0),\n",
       "  ('46', -1.0),\n",
       "  ('48', 1.0),\n",
       "  ('49', -1.0),\n",
       "  ('5', 1.0),\n",
       "  ('50', 1.0),\n",
       "  ('9', -1.0)],\n",
       " '12': [('11', 1.0),\n",
       "  ('13', -1.0),\n",
       "  ('14', 1.0),\n",
       "  ('15', 1.0),\n",
       "  ('16', 1.0),\n",
       "  ('18', 1.0),\n",
       "  ('19', 0.0),\n",
       "  ('21', -1.0),\n",
       "  ('22', -1.0),\n",
       "  ('23', 0.0),\n",
       "  ('25', 0.0),\n",
       "  ('28', 1.0),\n",
       "  ('29', -1.0),\n",
       "  ('3', -1.0),\n",
       "  ('30', -1.0),\n",
       "  ('33', -1.0),\n",
       "  ('34', -1.0),\n",
       "  ('37', 1.0),\n",
       "  ('38', 1.0),\n",
       "  ('39', 1.0),\n",
       "  ('4', -1.0),\n",
       "  ('40', -1.0),\n",
       "  ('42', 1.0),\n",
       "  ('44', -1.0),\n",
       "  ('45', 1.0),\n",
       "  ('46', 1.0),\n",
       "  ('49', 1.0),\n",
       "  ('50', -1.0)],\n",
       " '42': [('1', 1.0),\n",
       "  ('10', 1.0),\n",
       "  ('12', 1.0),\n",
       "  ('14', 0.0),\n",
       "  ('15', 0.0),\n",
       "  ('17', 1.0),\n",
       "  ('18', 0.0),\n",
       "  ('23', 1.0),\n",
       "  ('25', 1.0),\n",
       "  ('26', -1.0),\n",
       "  ('27', 1.0),\n",
       "  ('28', 0.0),\n",
       "  ('29', 1.0),\n",
       "  ('31', 1.0),\n",
       "  ('34', 1.0),\n",
       "  ('35', -1.0),\n",
       "  ('36', 1.0),\n",
       "  ('37', -1.0),\n",
       "  ('38', 0.0),\n",
       "  ('4', 1.0),\n",
       "  ('41', 1.0),\n",
       "  ('44', 1.0),\n",
       "  ('47', -1.0),\n",
       "  ('6', 1.0),\n",
       "  ('7', 0.0),\n",
       "  ('9', 0.0)],\n",
       " '41': [('1', -1.0),\n",
       "  ('10', 0.0),\n",
       "  ('11', 1.0),\n",
       "  ('14', 1.0),\n",
       "  ('15', 1.0),\n",
       "  ('17', 0.0),\n",
       "  ('18', 1.0),\n",
       "  ('20', -1.0),\n",
       "  ('23', 0.0),\n",
       "  ('25', -1.0),\n",
       "  ('26', 1.0),\n",
       "  ('30', 0.0),\n",
       "  ('33', -1.0),\n",
       "  ('34', 0.0),\n",
       "  ('36', -1.0),\n",
       "  ('38', 1.0),\n",
       "  ('4', 0.0),\n",
       "  ('42', 1.0),\n",
       "  ('43', 1.0),\n",
       "  ('44', 0.0),\n",
       "  ('45', 1.0),\n",
       "  ('46', 1.0),\n",
       "  ('47', 1.0),\n",
       "  ('48', -1.0),\n",
       "  ('5', -1.0),\n",
       "  ('50', 0.0),\n",
       "  ('7', 1.0),\n",
       "  ('8', 1.0),\n",
       "  ('9', 1.0)],\n",
       " '8': [('11', -1.0),\n",
       "  ('14', -1.0),\n",
       "  ('15', -1.0),\n",
       "  ('18', 0.0),\n",
       "  ('19', 1.0),\n",
       "  ('2', 1.0),\n",
       "  ('21', 1.0),\n",
       "  ('23', 1.0),\n",
       "  ('24', 1.0),\n",
       "  ('25', 1.0),\n",
       "  ('26', -1.0),\n",
       "  ('27', 1.0),\n",
       "  ('29', 1.0),\n",
       "  ('3', 1.0),\n",
       "  ('32', 0.0),\n",
       "  ('35', -1.0),\n",
       "  ('36', 1.0),\n",
       "  ('37', 0.0),\n",
       "  ('39', 0.0),\n",
       "  ('41', 1.0),\n",
       "  ('43', 0.0),\n",
       "  ('44', 1.0),\n",
       "  ('46', -1.0),\n",
       "  ('48', 1.0),\n",
       "  ('49', -1.0),\n",
       "  ('7', -1.0)],\n",
       " '40': [('1', -1.0),\n",
       "  ('11', 1.0),\n",
       "  ('12', -1.0),\n",
       "  ('15', 1.0),\n",
       "  ('17', -1.0),\n",
       "  ('18', 1.0),\n",
       "  ('19', 0.0),\n",
       "  ('20', 0.0),\n",
       "  ('22', -1.0),\n",
       "  ('23', 0.0),\n",
       "  ('25', 0.0),\n",
       "  ('27', -1.0),\n",
       "  ('29', -1.0),\n",
       "  ('3', 0.0),\n",
       "  ('30', -1.0),\n",
       "  ('31', -1.0),\n",
       "  ('32', 1.0),\n",
       "  ('33', 0.0),\n",
       "  ('39', 1.0),\n",
       "  ('43', 1.0),\n",
       "  ('44', 0.0),\n",
       "  ('45', 1.0),\n",
       "  ('49', 1.0),\n",
       "  ('5', 0.0),\n",
       "  ('7', 1.0)],\n",
       " '7': [('1', 1.0),\n",
       "  ('11', 0.0),\n",
       "  ('13', 1.0),\n",
       "  ('14', -1.0),\n",
       "  ('2', 1.0),\n",
       "  ('20', 1.0),\n",
       "  ('21', 1.0),\n",
       "  ('23', 1.0),\n",
       "  ('27', 1.0),\n",
       "  ('30', 1.0),\n",
       "  ('33', 1.0),\n",
       "  ('35', -1.0),\n",
       "  ('36', 1.0),\n",
       "  ('37', 0.0),\n",
       "  ('40', 1.0),\n",
       "  ('41', 1.0),\n",
       "  ('42', 0.0),\n",
       "  ('44', 1.0),\n",
       "  ('48', 1.0),\n",
       "  ('49', 0.0),\n",
       "  ('5', 1.0),\n",
       "  ('50', 1.0),\n",
       "  ('6', 1.0),\n",
       "  ('8', -1.0)],\n",
       " '2': [('1', -1.0),\n",
       "  ('11', 1.0),\n",
       "  ('13', 0.0),\n",
       "  ('15', 1.0),\n",
       "  ('17', 0.0),\n",
       "  ('18', 1.0),\n",
       "  ('19', -1.0),\n",
       "  ('21', -1.0),\n",
       "  ('22', 0.0),\n",
       "  ('23', 0.0),\n",
       "  ('24', -1.0),\n",
       "  ('25', -1.0),\n",
       "  ('26', 1.0),\n",
       "  ('27', 0.0),\n",
       "  ('3', -1.0),\n",
       "  ('30', -1.0),\n",
       "  ('31', -1.0),\n",
       "  ('32', 1.0),\n",
       "  ('33', 0.0),\n",
       "  ('36', -1.0),\n",
       "  ('37', 1.0),\n",
       "  ('38', 1.0),\n",
       "  ('39', 1.0),\n",
       "  ('4', 0.0),\n",
       "  ('44', 0.0),\n",
       "  ('46', 1.0),\n",
       "  ('48', -1.0),\n",
       "  ('50', -1.0),\n",
       "  ('6', 0.0),\n",
       "  ('7', 1.0),\n",
       "  ('8', 1.0)],\n",
       " '36': [('1', 0.0),\n",
       "  ('15', 1.0),\n",
       "  ('16', 1.0),\n",
       "  ('17', -1.0),\n",
       "  ('18', 1.0),\n",
       "  ('19', 0.0),\n",
       "  ('2', -1.0),\n",
       "  ('20', 0.0),\n",
       "  ('22', 0.0),\n",
       "  ('23', 0.0),\n",
       "  ('24', 0.0),\n",
       "  ('25', -1.0),\n",
       "  ('26', 1.0),\n",
       "  ('27', -1.0),\n",
       "  ('28', 1.0),\n",
       "  ('30', 0.0),\n",
       "  ('41', -1.0),\n",
       "  ('42', 1.0),\n",
       "  ('43', 1.0),\n",
       "  ('44', -1.0),\n",
       "  ('45', 1.0),\n",
       "  ('46', 1.0),\n",
       "  ('48', -1.0),\n",
       "  ('50', 0.0),\n",
       "  ('6', -1.0),\n",
       "  ('7', 1.0),\n",
       "  ('8', 1.0)],\n",
       " '13': [('1', -1.0),\n",
       "  ('10', 0.0),\n",
       "  ('12', -1.0),\n",
       "  ('14', 1.0),\n",
       "  ('15', 1.0),\n",
       "  ('17', -1.0),\n",
       "  ('19', 0.0),\n",
       "  ('2', 0.0),\n",
       "  ('21', -1.0),\n",
       "  ('22', -1.0),\n",
       "  ('24', 0.0),\n",
       "  ('25', 0.0),\n",
       "  ('26', 1.0),\n",
       "  ('27', -1.0),\n",
       "  ('28', 1.0),\n",
       "  ('30', 0.0),\n",
       "  ('32', 1.0),\n",
       "  ('34', -1.0),\n",
       "  ('37', 1.0),\n",
       "  ('4', 0.0),\n",
       "  ('43', 1.0),\n",
       "  ('45', 1.0),\n",
       "  ('47', 1.0),\n",
       "  ('48', 0.0),\n",
       "  ('5', -1.0),\n",
       "  ('50', -1.0),\n",
       "  ('7', 1.0),\n",
       "  ('9', 1.0)],\n",
       " '19': [('1', -1.0),\n",
       "  ('10', 0.0),\n",
       "  ('12', 0.0),\n",
       "  ('13', 0.0),\n",
       "  ('15', 1.0),\n",
       "  ('16', 1.0),\n",
       "  ('2', -1.0),\n",
       "  ('20', -1.0),\n",
       "  ('21', -1.0),\n",
       "  ('23', 0.0),\n",
       "  ('25', -1.0),\n",
       "  ('26', 1.0),\n",
       "  ('3', -1.0),\n",
       "  ('30', -1.0),\n",
       "  ('31', -1.0),\n",
       "  ('35', 1.0),\n",
       "  ('36', 0.0),\n",
       "  ('37', 1.0),\n",
       "  ('38', 1.0),\n",
       "  ('39', 1.0),\n",
       "  ('4', -1.0),\n",
       "  ('40', 0.0),\n",
       "  ('43', 1.0),\n",
       "  ('44', -1.0),\n",
       "  ('45', 1.0),\n",
       "  ('46', 1.0),\n",
       "  ('47', 1.0),\n",
       "  ('49', 1.0),\n",
       "  ('5', -1.0),\n",
       "  ('50', -1.0),\n",
       "  ('8', 1.0)],\n",
       " '25': [('1', 0.0),\n",
       "  ('12', 0.0),\n",
       "  ('13', 0.0),\n",
       "  ('15', 1.0),\n",
       "  ('17', -1.0),\n",
       "  ('18', 1.0),\n",
       "  ('19', -1.0),\n",
       "  ('2', -1.0),\n",
       "  ('23', 0.0),\n",
       "  ('28', 1.0),\n",
       "  ('29', 0.0),\n",
       "  ('3', 0.0),\n",
       "  ('34', -1.0),\n",
       "  ('35', 1.0),\n",
       "  ('36', -1.0),\n",
       "  ('38', 1.0),\n",
       "  ('39', 1.0),\n",
       "  ('4', 0.0),\n",
       "  ('40', 0.0),\n",
       "  ('41', -1.0),\n",
       "  ('42', 1.0),\n",
       "  ('43', 1.0),\n",
       "  ('44', -1.0),\n",
       "  ('50', -1.0),\n",
       "  ('6', 0.0),\n",
       "  ('8', 1.0),\n",
       "  ('9', 1.0)],\n",
       " '4': [('12', -1.0),\n",
       "  ('13', 0.0),\n",
       "  ('16', 1.0),\n",
       "  ('17', -1.0),\n",
       "  ('18', 1.0),\n",
       "  ('19', -1.0),\n",
       "  ('2', 0.0),\n",
       "  ('22', 0.0),\n",
       "  ('23', 0.0),\n",
       "  ('25', 0.0),\n",
       "  ('28', 1.0),\n",
       "  ('29', -1.0),\n",
       "  ('31', 0.0),\n",
       "  ('32', 1.0),\n",
       "  ('33', 0.0),\n",
       "  ('34', 0.0),\n",
       "  ('39', 1.0),\n",
       "  ('41', 0.0),\n",
       "  ('42', 1.0),\n",
       "  ('43', 1.0),\n",
       "  ('44', -1.0),\n",
       "  ('45', 1.0),\n",
       "  ('46', 1.0),\n",
       "  ('48', -1.0),\n",
       "  ('49', 1.0)],\n",
       " '49': [('1', 1.0),\n",
       "  ('10', 1.0),\n",
       "  ('11', 0.0),\n",
       "  ('12', 1.0),\n",
       "  ('14', -1.0),\n",
       "  ('15', 0.0),\n",
       "  ('16', 0.0),\n",
       "  ('18', 0.0),\n",
       "  ('19', 1.0),\n",
       "  ('20', 1.0),\n",
       "  ('21', 1.0),\n",
       "  ('22', 1.0),\n",
       "  ('23', 1.0),\n",
       "  ('27', 1.0),\n",
       "  ('28', -1.0),\n",
       "  ('30', 1.0),\n",
       "  ('4', 1.0),\n",
       "  ('40', 1.0),\n",
       "  ('46', -1.0),\n",
       "  ('47', -1.0),\n",
       "  ('5', 1.0),\n",
       "  ('7', 0.0),\n",
       "  ('8', -1.0),\n",
       "  ('9', -1.0)]}"
      ]
     },
     "execution_count": 69,
     "metadata": {},
     "output_type": "execute_result"
    }
   ],
   "source": [
    "lista_de_adjacencia('Grafos_artificiais_txt\\grafo_2.txt')"
   ]
  },
  {
   "cell_type": "markdown",
   "metadata": {},
   "source": [
    "##### Função para obtem os dados do vértice"
   ]
  },
  {
   "cell_type": "code",
   "execution_count": 70,
   "metadata": {},
   "outputs": [],
   "source": [
    "def dados_vertice(vertice: str, lista_Adj: dict):\n",
    "    \"\"\"\n",
    "    Recebe como entrada um vértice representado por uma string e uma lista de adjacência representada como dicionário. \n",
    "    Esta função calcula e retorna o grau, Vértice adjacente que tem a aresta de menor e maior peso, potencial total e densidade local,\n",
    "    associadas ao vértice em questão.\n",
    "\n",
    "    >>> dados_vertice('71', lista_Adj)\n",
    "    (134, 0.014925373134328358, 10, 1, 2.0, 0.015037593984962405)\t\n",
    "    \n",
    "    >>> dados_vertice('51', lista_Adj)\n",
    "    (0, 0.0, 0, 0, 0.0, 0.0)\t\n",
    "    \n",
    "    \"\"\"\n",
    "    grau = len(lista_Adj[vertice])\n",
    "    menor_valor = [0, float('inf')] # Obtem o vértice adjacência que a aresta é de MENOR peso\n",
    "    maior_valor = [0, float('-inf')] # Obtem o vértice adjacência que a aresta é de MAIOR peso\n",
    "    potencial_total  = 0\n",
    "    qtd_aresta_vizinhaca = 0\n",
    "\n",
    "    # Conta a quantidade de arestas em um pedaço do grafo. Pega os vizinhos dele e as arestas com vértices em comum e soma.\n",
    "    for vertice_adj in lista_Adj[vertice]:\n",
    "        for vizinho_do_adj in lista_Adj[vertice_adj[0]]:\n",
    "            if vertice_adj in lista_Adj[vizinho_do_adj[0]]:\n",
    "                qtd_aresta_vizinhaca += 1\n",
    "\n",
    "    qtd_aresta_vizinhaca /= 2\n",
    "\n",
    "    for valor in lista_Adj[vertice]:\n",
    "        # Grau e média do vértice\n",
    "        potencial_total += (valor[1])   \n",
    "    \n",
    "        # Obtendo menor valor das arestas\n",
    "        if valor[1] < menor_valor[1]:\n",
    "            menor_valor = [valor[0], valor[1]]\n",
    "\n",
    "        # Obtendo menor valor das arestas\n",
    "        if valor[1] > maior_valor[1]:\n",
    "            maior_valor = [valor[0], valor[1]]\n",
    "\n",
    "    # Densidade local e média dos pesos\n",
    "    if grau != 0:\n",
    "        densidade_local = qtd_aresta_vizinhaca/(((grau+1)*(grau))/2) \n",
    "        media_peso = potencial_total/grau\n",
    "    else:\n",
    "        densidade_local = 0\n",
    "        media_peso = 0\n",
    "        \n",
    "    # Média dos pesos\n",
    "    \n",
    "    return grau, media_peso, int(menor_valor[0]), int(maior_valor[0]), potencial_total, densidade_local"
   ]
  },
  {
   "cell_type": "markdown",
   "metadata": {},
   "source": [
    "##### Criação da Base de Dados"
   ]
  },
  {
   "cell_type": "code",
   "execution_count": 71,
   "metadata": {},
   "outputs": [],
   "source": [
    "def criar_base_dados(arquivo: str):\n",
    "    \"\"\"\n",
    "    Esta função recebe como entrada o caminho de um arquivo padronizado. O arquivo deve ter a primeira linha contendo a quantidade de vértices e arestas. \n",
    "    As linhas subsequentes devem conter três informações: Vértice1, Vértice2 e PesoDaAresta. Após criar a lista de adjacência com a função lista_de_adjacencia,\n",
    "    é utilizado a função dados_vertice para calcular o grau, a média de peso, o vértice adjacente com a aresta de menor e maior valor, a densidade local e o\n",
    "    potencial total. Por fim, cria e retorna um DataFrame com esses dados.\n",
    "\n",
    "    OBS: É necessário importar a biblioteca Pandas.\n",
    "    \"\"\"\n",
    "    lista_Adj = lista_de_adjacencia(arquivo)\n",
    "\n",
    "    grafo = {\n",
    "    'vertice': [],\n",
    "    'grau': [],\n",
    "    'media_Peso': [],\n",
    "    'menor_Peso': [],\n",
    "    'maior_Peso': [],\n",
    "    'potencial_Total': [],\n",
    "    'densidade_Local':[]\n",
    "    }\n",
    "\n",
    "    for chave in lista_Adj.keys():\n",
    "        \n",
    "        grau, media_Peso, menor_Valor, maior_Valor, densidade_Local, potencial_Total = dados_vertice(chave, lista_Adj)\n",
    "\n",
    "        grafo['vertice'].append(chave)\n",
    "        grafo['grau'].append(grau)\n",
    "        grafo['media_Peso'].append(media_Peso)\n",
    "        grafo['menor_Peso'].append(menor_Valor)\n",
    "        grafo['maior_Peso'].append(maior_Valor)\n",
    "        grafo['densidade_Local'].append(densidade_Local)\n",
    "        grafo['potencial_Total'].append(potencial_Total)\n",
    "    \n",
    "    return pd.DataFrame(grafo)"
   ]
  },
  {
   "cell_type": "markdown",
   "metadata": {},
   "source": [
    "### Base de dados"
   ]
  },
  {
   "cell_type": "markdown",
   "metadata": {},
   "source": [
    "#### Ideias de DataFrame"
   ]
  },
  {
   "cell_type": "markdown",
   "metadata": {},
   "source": [
    "##### Tabela 1"
   ]
  },
  {
   "cell_type": "markdown",
   "metadata": {},
   "source": [
    "**Descrição:** A ideia é ter os vértices como registro, sendo que o o atributo que queremos prever é a partição.\n",
    "\n",
    "| Vértice | Grau | Média_Peso_Aresta | Aresta de Menor Peso | Aresta com Maior Peso | Potencial total do vértice | Densidade Local | Partição |\n",
    "| ------- | ---- | ----------------- | -------------------- | --------------------- | -------------------------- | --------------- | ------   |  \n",
    "| 1       | 4    | 0.5               | 2                    | 9                     | 10                         |0.12653          | 1        |\n",
    "| 2       | 3    | 0.8               | 4                    | 8                     |-2                          |1.0              | 0        | \n",
    "| 3       | 5    | 0.3               | 1                    | 7                     | 11                         |0.56531          | 1        |\n",
    "| ...     | ...  | ...               | ...                  | ...                   |...                         |0.35446          | ...      | \n",
    "\n",
    "**Nota:** \n",
    "\n",
    "- Tentar incluir Diferença de pesos entre as arestas conectadas a um vértice, para indicar o quão desbalanceado é os pesos daquele vértice.\n",
    "\n"
   ]
  },
  {
   "cell_type": "markdown",
   "metadata": {},
   "source": [
    "##### Tabela 2"
   ]
  },
  {
   "cell_type": "markdown",
   "metadata": {},
   "source": [
    "\n",
    "**Descrição:** Cada registro desse dataframe é uma instância do problema de corte máximo com o valor ótimo sendo a resposta.\n",
    "\n",
    "| Quantidade de Vértices | Tipo de Grafo | Densidade | Maior Peso Encontrado | Menor Peso Encontrado | Mediana dos Graus do Grafo | Resposta Ótima |\n",
    "| -------- | ------------- | --------- | --------------------- | --------------------- | ------------ | --------------|\n",
    "| 10       | Simples       | 0.6       | 10                    | 2                     | 8          | 15            |\n",
    "| 20       | Completo      | 0.8       | 15                    | 1                     | 20          | 25            |\n",
    "| 30       | Bipartido     | 0.5       | 20                    | 3                     | 22          | 30            |\n",
    "| ...      | ...           | ...       | ...                   | ...                   | ...          | ...           |\n",
    "\n",
    "**Nota:**\n",
    "\n",
    "- Esse tipo de Dataframe possui um problema crucial. Não é possível conferir o particionamento do vértice, possibilitando que o valor ótimo encontrado esteja errado (com margem para cima ou para baixo), isto é, não da para conferir o valor ótimo sem a partição de cada vértice."
   ]
  },
  {
   "cell_type": "markdown",
   "metadata": {},
   "source": [
    "#### Grafos Artificiais"
   ]
  },
  {
   "cell_type": "markdown",
   "metadata": {},
   "source": [
    "A criação desses grafos está encapsulada no arquivo `grafos_artificiais_perfeitos.py`. Neste código, é possível configurar o número de vértices e arestas do grafo utilizando a função `gerar_grafo()`. Após a execução, são gerados um `arquivo.txt` e um dicionário que contém as partições associadas a cada vértice.\n",
    "\n",
    "Esse grafo tem como regra que vértices pertencentes à mesma partição possuam arestas com peso -1, enquanto vértices de partições diferentes tenham arestas com peso 1. Essa configuração cria uma instância artificial para o problema de Max-Cut, considerando um cenário idealizado."
   ]
  },
  {
   "cell_type": "markdown",
   "metadata": {},
   "source": [
    "##### Criação de um grafo artificial"
   ]
  },
  {
   "cell_type": "code",
   "execution_count": 72,
   "metadata": {},
   "outputs": [],
   "source": [
    "from random import randint"
   ]
  },
  {
   "cell_type": "markdown",
   "metadata": {},
   "source": [
    "A função `randint()` é usada para selecionar aleatoriamente um número inteiro dentro de um intervalo. Essa função será utilizada para atribuir partições a vértices sem arestas, visto que, na ausência delas, a decisão da partição não é relevante."
   ]
  },
  {
   "cell_type": "code",
   "execution_count": 73,
   "metadata": {},
   "outputs": [],
   "source": [
    "lista_Adj = lista_de_adjacencia('Grafos_artificiais_txt\\grafo.txt')"
   ]
  },
  {
   "cell_type": "code",
   "execution_count": 74,
   "metadata": {},
   "outputs": [],
   "source": [
    "particao = {0: 0, 1: 0, 2: 1, 3: 0, 4: 0, 5: 0, 6: 0, 7: 1, 8: 0, 9: 1, 10: 0, 11: 0, 12: 1, 13: 1, 14: 1, 15: 1, 16: 1, 17: 0, 18: 0, 19: 0, 20: 0, 21: 0, 22: 0, 23: 0, 24: 1, 25: 0, 26: 0, 27: 0, 28: 0, 29: 0, 30: 0, 31: 1, 32: 0, 33: 1, 34: 0, 35: 0, 36: 1, 37: 1, 38: 0, 39: 1, 40: 1, 41: 0, 42: 1, 43: 0, 44: 1, 45: 1, 46: 0, 47: 0, 48: 1, 49: 0, 50: 1, 51: 0, 52: 0, 53: 1, 54: 0, 55: 1, 56: 1, 57: 1, 58: 0, 59: 1, 60: 1, 61: 0, 62: 1, 63: 0, 64: 0, 65: 0, 66: 0, 67: 0, 68: 1, 69: 1, 70: 1, 71: 1, 72: 1, 73: 1, 74: 0, 75: 1, 76: 1, 77: 1, 78: 1, 79: 1, 80: 0, 81: 1, 82: 1, 83: 0, 84: 1, 85: 1, 86: 0, 87: 1, 88: 0, 89: 0, 90: 1, 91: 1, 92: 0, 93: 0, 94: 0, 95: 0, 96: 1, 97: 1, 98: 1, 99: 0, 100: 1, 101: 1, 102: 0, 103: 0, 104: 1, 105: 0, 106: 0, 107: 1, 108: 0, 109: 1, 110: 1, 111: 0, 112: 0, 113: 0, 114: 0, 115: 1, 116: 1, 117: 1, 118: 0, 119: 0, 120: 0, 121: 1, 122: 0, 123: 1, 124: 1, 125: 0, 126: 1, 127: 0, 128: 1, 129: 1, 130: 1, 131: 0, 132: 1, 133: 1, 134: 0, 135: 0, 136: 1, 137: 0, 138: 1, 139: 1, 140: 1, 141: 0, 142: 0, 143: 1, 144: 1, 145: 0, 146: 1, 147: 1, 148: 0, 149: 0}"
   ]
  },
  {
   "cell_type": "markdown",
   "metadata": {},
   "source": [
    "Conforme mencionado anteriormente, estou utilizando a função `gerar_grafo()`. Esta função resultou na criação de um `arquivo.txt` contendo a instância artificial, acompanhado pelo dicionário que especifica a partição de cada vértice."
   ]
  },
  {
   "cell_type": "code",
   "execution_count": 75,
   "metadata": {},
   "outputs": [
    {
     "name": "stdout",
     "output_type": "stream",
     "text": [
      "Existem 0 vértices sem arestas!\n"
     ]
    }
   ],
   "source": [
    "# Dicionário para a criação do arquivo.csv\n",
    "grafo = {\n",
    "'vertice': [],\n",
    "'grau': [],\n",
    "'media_Peso': [],\n",
    "'menor_Peso': [],\n",
    "'maior_Peso': [],\n",
    "'potencial_Total': [],\n",
    "'densidade_Local': [],\n",
    "'particao':[]\n",
    "}\n",
    "\n",
    "conta = 0\n",
    "\n",
    "# Percorre a lista de adjacência para obter os dados de cada vértice e alocar em suas respectivas listas.\n",
    "# Cada índice de todas as lista é referente a um registro na tabela.\n",
    "for chave in lista_Adj.keys():\n",
    "    \n",
    "    grau, media_Peso, menor_Valor, maior_Valor, potencial_Total, densidade_Local = dados_vertice(chave, lista_Adj)\n",
    "\n",
    "    grafo['vertice'].append(chave)\n",
    "    grafo['grau'].append(grau)\n",
    "    grafo['media_Peso'].append(media_Peso)\n",
    "    grafo['menor_Peso'].append(menor_Valor)\n",
    "    grafo['maior_Peso'].append(maior_Valor)\n",
    "    grafo['densidade_Local'].append(densidade_Local)\n",
    "    grafo['potencial_Total'].append(potencial_Total)\n",
    "    \n",
    "    # print(p[int(chave)])\n",
    "\n",
    "    try:\n",
    "        grafo['particao'].append(particao[int(chave)-1])\n",
    "    except KeyError: # Caso entre nesse caso, significa que o vértice não possui arestas. Portanto, pode ser movido para qualquer partição\n",
    "        conta += 1\n",
    "        grafo['particao'].append(randint(0, 1))\n",
    "\n",
    "print(f\"Existem {conta} vértices sem arestas!\")\n",
    "df = pd.DataFrame(grafo)"
   ]
  },
  {
   "cell_type": "markdown",
   "metadata": {},
   "source": [
    "Para gerar um `arquivo.csv`, é preciso criar um dicionário. Cada chave do dicionário deve conter uma lista, onde o índice de cada lista corresponde a um registro na tabela. Por exemplo, o índice 0 em todas as listas é o primeiro registro na tabela."
   ]
  },
  {
   "cell_type": "code",
   "execution_count": 76,
   "metadata": {},
   "outputs": [],
   "source": [
    "df.to_csv(\"Grafo_art.csv\", index=False)"
   ]
  },
  {
   "cell_type": "markdown",
   "metadata": {},
   "source": [
    "A função `to_csv()` é utilizado para salvar os dados em um `arquivo.csv`"
   ]
  },
  {
   "cell_type": "code",
   "execution_count": 77,
   "metadata": {},
   "outputs": [],
   "source": [
    "df = pd.read_csv(\"Grafo_art.csv\")"
   ]
  },
  {
   "cell_type": "markdown",
   "metadata": {},
   "source": [
    "### Preparando os dados para aplicação dos modelos"
   ]
  },
  {
   "cell_type": "markdown",
   "metadata": {},
   "source": [
    "#### Analisando a correlação dos atributos com a partição"
   ]
  },
  {
   "cell_type": "code",
   "execution_count": 78,
   "metadata": {},
   "outputs": [
    {
     "data": {
      "text/plain": [
       "particao           1.000000\n",
       "media_Peso         0.404995\n",
       "potencial_Total    0.404100\n",
       "menor_Peso         0.199685\n",
       "vertice            0.124106\n",
       "grau               0.052823\n",
       "maior_Peso        -0.148482\n",
       "densidade_Local   -0.455324\n",
       "dtype: float64"
      ]
     },
     "execution_count": 78,
     "metadata": {},
     "output_type": "execute_result"
    }
   ],
   "source": [
    "colunas = df.select_dtypes(include=['integer', 'float'])\n",
    "correlacoes_particao = colunas.corrwith(df[\"particao\"])\n",
    "correlacoes_particao.sort_values(ascending=False)"
   ]
  },
  {
   "cell_type": "markdown",
   "metadata": {},
   "source": [
    "**Nota:**\n",
    "\n",
    "- Valor 1: indica a correlação perfeita.\n",
    "- Valor -1: indica uma correlação negativa perfeita.\n",
    "- valor proximo de 0: indica uma correlação fraca ou nula."
   ]
  },
  {
   "cell_type": "markdown",
   "metadata": {},
   "source": [
    "##### Analisando dados iniciais"
   ]
  },
  {
   "cell_type": "code",
   "execution_count": 79,
   "metadata": {},
   "outputs": [],
   "source": [
    "import seaborn as sns\n",
    "import matplotlib.pyplot as plt"
   ]
  },
  {
   "cell_type": "markdown",
   "metadata": {},
   "source": [
    "- `seaborn`: Biblioteca Python para visualização de dados. Oferece estilos e padrões de cores para gráficos estatísticos.\n",
    "\n",
    "- `matplotlib.pyplot`: Módulo do `matplotlib` que fornece uma interface para criar gráficos e visualizações em Python.\n"
   ]
  },
  {
   "cell_type": "code",
   "execution_count": 80,
   "metadata": {},
   "outputs": [
    {
     "data": {
      "text/html": [
       "<div>\n",
       "<style scoped>\n",
       "    .dataframe tbody tr th:only-of-type {\n",
       "        vertical-align: middle;\n",
       "    }\n",
       "\n",
       "    .dataframe tbody tr th {\n",
       "        vertical-align: top;\n",
       "    }\n",
       "\n",
       "    .dataframe thead th {\n",
       "        text-align: right;\n",
       "    }\n",
       "</style>\n",
       "<table border=\"1\" class=\"dataframe\">\n",
       "  <thead>\n",
       "    <tr style=\"text-align: right;\">\n",
       "      <th></th>\n",
       "      <th>vertice</th>\n",
       "      <th>grau</th>\n",
       "      <th>media_Peso</th>\n",
       "      <th>menor_Peso</th>\n",
       "      <th>maior_Peso</th>\n",
       "      <th>potencial_Total</th>\n",
       "      <th>densidade_Local</th>\n",
       "      <th>particao</th>\n",
       "    </tr>\n",
       "  </thead>\n",
       "  <tbody>\n",
       "    <tr>\n",
       "      <th>0</th>\n",
       "      <td>71</td>\n",
       "      <td>134</td>\n",
       "      <td>0.014925</td>\n",
       "      <td>10</td>\n",
       "      <td>1</td>\n",
       "      <td>2.0</td>\n",
       "      <td>0.488170</td>\n",
       "      <td>1</td>\n",
       "    </tr>\n",
       "    <tr>\n",
       "      <th>1</th>\n",
       "      <td>83</td>\n",
       "      <td>138</td>\n",
       "      <td>0.028986</td>\n",
       "      <td>10</td>\n",
       "      <td>1</td>\n",
       "      <td>4.0</td>\n",
       "      <td>0.474038</td>\n",
       "      <td>1</td>\n",
       "    </tr>\n",
       "    <tr>\n",
       "      <th>2</th>\n",
       "      <td>64</td>\n",
       "      <td>133</td>\n",
       "      <td>-0.022556</td>\n",
       "      <td>1</td>\n",
       "      <td>102</td>\n",
       "      <td>-3.0</td>\n",
       "      <td>0.504769</td>\n",
       "      <td>0</td>\n",
       "    </tr>\n",
       "    <tr>\n",
       "      <th>3</th>\n",
       "      <td>118</td>\n",
       "      <td>130</td>\n",
       "      <td>0.015385</td>\n",
       "      <td>10</td>\n",
       "      <td>100</td>\n",
       "      <td>2.0</td>\n",
       "      <td>0.504052</td>\n",
       "      <td>1</td>\n",
       "    </tr>\n",
       "    <tr>\n",
       "      <th>4</th>\n",
       "      <td>2</td>\n",
       "      <td>133</td>\n",
       "      <td>0.052632</td>\n",
       "      <td>1</td>\n",
       "      <td>10</td>\n",
       "      <td>7.0</td>\n",
       "      <td>0.504713</td>\n",
       "      <td>0</td>\n",
       "    </tr>\n",
       "  </tbody>\n",
       "</table>\n",
       "</div>"
      ],
      "text/plain": [
       "   vertice  grau  media_Peso  menor_Peso  maior_Peso  potencial_Total   \n",
       "0       71   134    0.014925          10           1              2.0  \\\n",
       "1       83   138    0.028986          10           1              4.0   \n",
       "2       64   133   -0.022556           1         102             -3.0   \n",
       "3      118   130    0.015385          10         100              2.0   \n",
       "4        2   133    0.052632           1          10              7.0   \n",
       "\n",
       "   densidade_Local  particao  \n",
       "0         0.488170         1  \n",
       "1         0.474038         1  \n",
       "2         0.504769         0  \n",
       "3         0.504052         1  \n",
       "4         0.504713         0  "
      ]
     },
     "execution_count": 80,
     "metadata": {},
     "output_type": "execute_result"
    }
   ],
   "source": [
    "df.head()"
   ]
  },
  {
   "cell_type": "code",
   "execution_count": 81,
   "metadata": {},
   "outputs": [
    {
     "data": {
      "text/plain": [
       "vertice            0\n",
       "grau               0\n",
       "media_Peso         0\n",
       "menor_Peso         0\n",
       "maior_Peso         0\n",
       "potencial_Total    0\n",
       "densidade_Local    0\n",
       "particao           0\n",
       "dtype: int64"
      ]
     },
     "execution_count": 81,
     "metadata": {},
     "output_type": "execute_result"
    }
   ],
   "source": [
    "df.isnull().sum()"
   ]
  },
  {
   "cell_type": "code",
   "execution_count": 82,
   "metadata": {},
   "outputs": [
    {
     "name": "stdout",
     "output_type": "stream",
     "text": [
      "<class 'pandas.core.frame.DataFrame'>\n",
      "RangeIndex: 150 entries, 0 to 149\n",
      "Data columns (total 8 columns):\n",
      " #   Column           Non-Null Count  Dtype  \n",
      "---  ------           --------------  -----  \n",
      " 0   vertice          150 non-null    int64  \n",
      " 1   grau             150 non-null    int64  \n",
      " 2   media_Peso       150 non-null    float64\n",
      " 3   menor_Peso       150 non-null    int64  \n",
      " 4   maior_Peso       150 non-null    int64  \n",
      " 5   potencial_Total  150 non-null    float64\n",
      " 6   densidade_Local  150 non-null    float64\n",
      " 7   particao         150 non-null    int64  \n",
      "dtypes: float64(3), int64(5)\n",
      "memory usage: 9.5 KB\n"
     ]
    }
   ],
   "source": [
    "df.info()"
   ]
  },
  {
   "cell_type": "code",
   "execution_count": 83,
   "metadata": {},
   "outputs": [
    {
     "data": {
      "text/html": [
       "<div>\n",
       "<style scoped>\n",
       "    .dataframe tbody tr th:only-of-type {\n",
       "        vertical-align: middle;\n",
       "    }\n",
       "\n",
       "    .dataframe tbody tr th {\n",
       "        vertical-align: top;\n",
       "    }\n",
       "\n",
       "    .dataframe thead th {\n",
       "        text-align: right;\n",
       "    }\n",
       "</style>\n",
       "<table border=\"1\" class=\"dataframe\">\n",
       "  <thead>\n",
       "    <tr style=\"text-align: right;\">\n",
       "      <th></th>\n",
       "      <th>vertice</th>\n",
       "      <th>grau</th>\n",
       "      <th>media_Peso</th>\n",
       "      <th>menor_Peso</th>\n",
       "      <th>maior_Peso</th>\n",
       "      <th>potencial_Total</th>\n",
       "      <th>densidade_Local</th>\n",
       "      <th>particao</th>\n",
       "    </tr>\n",
       "  </thead>\n",
       "  <tbody>\n",
       "    <tr>\n",
       "      <th>count</th>\n",
       "      <td>150.000000</td>\n",
       "      <td>150.000000</td>\n",
       "      <td>150.000000</td>\n",
       "      <td>150.000000</td>\n",
       "      <td>150.000000</td>\n",
       "      <td>150.000000</td>\n",
       "      <td>150.000000</td>\n",
       "      <td>150.000000</td>\n",
       "    </tr>\n",
       "    <tr>\n",
       "      <th>mean</th>\n",
       "      <td>75.500000</td>\n",
       "      <td>133.333333</td>\n",
       "      <td>0.009135</td>\n",
       "      <td>16.126667</td>\n",
       "      <td>16.333333</td>\n",
       "      <td>1.226667</td>\n",
       "      <td>0.497425</td>\n",
       "      <td>0.493333</td>\n",
       "    </tr>\n",
       "    <tr>\n",
       "      <th>std</th>\n",
       "      <td>43.445368</td>\n",
       "      <td>3.377117</td>\n",
       "      <td>0.030211</td>\n",
       "      <td>30.594621</td>\n",
       "      <td>30.606107</td>\n",
       "      <td>4.013646</td>\n",
       "      <td>0.014427</td>\n",
       "      <td>0.501630</td>\n",
       "    </tr>\n",
       "    <tr>\n",
       "      <th>min</th>\n",
       "      <td>1.000000</td>\n",
       "      <td>121.000000</td>\n",
       "      <td>-0.083969</td>\n",
       "      <td>1.000000</td>\n",
       "      <td>1.000000</td>\n",
       "      <td>-11.000000</td>\n",
       "      <td>0.461391</td>\n",
       "      <td>0.000000</td>\n",
       "    </tr>\n",
       "    <tr>\n",
       "      <th>25%</th>\n",
       "      <td>38.250000</td>\n",
       "      <td>131.000000</td>\n",
       "      <td>-0.007814</td>\n",
       "      <td>1.000000</td>\n",
       "      <td>1.000000</td>\n",
       "      <td>-1.000000</td>\n",
       "      <td>0.488888</td>\n",
       "      <td>0.000000</td>\n",
       "    </tr>\n",
       "    <tr>\n",
       "      <th>50%</th>\n",
       "      <td>75.500000</td>\n",
       "      <td>133.000000</td>\n",
       "      <td>0.007752</td>\n",
       "      <td>10.000000</td>\n",
       "      <td>10.000000</td>\n",
       "      <td>1.000000</td>\n",
       "      <td>0.496660</td>\n",
       "      <td>0.000000</td>\n",
       "    </tr>\n",
       "    <tr>\n",
       "      <th>75%</th>\n",
       "      <td>112.750000</td>\n",
       "      <td>136.000000</td>\n",
       "      <td>0.028781</td>\n",
       "      <td>10.000000</td>\n",
       "      <td>10.000000</td>\n",
       "      <td>4.000000</td>\n",
       "      <td>0.504924</td>\n",
       "      <td>1.000000</td>\n",
       "    </tr>\n",
       "    <tr>\n",
       "      <th>max</th>\n",
       "      <td>150.000000</td>\n",
       "      <td>143.000000</td>\n",
       "      <td>0.106061</td>\n",
       "      <td>101.000000</td>\n",
       "      <td>103.000000</td>\n",
       "      <td>14.000000</td>\n",
       "      <td>0.554803</td>\n",
       "      <td>1.000000</td>\n",
       "    </tr>\n",
       "  </tbody>\n",
       "</table>\n",
       "</div>"
      ],
      "text/plain": [
       "          vertice        grau  media_Peso  menor_Peso  maior_Peso   \n",
       "count  150.000000  150.000000  150.000000  150.000000  150.000000  \\\n",
       "mean    75.500000  133.333333    0.009135   16.126667   16.333333   \n",
       "std     43.445368    3.377117    0.030211   30.594621   30.606107   \n",
       "min      1.000000  121.000000   -0.083969    1.000000    1.000000   \n",
       "25%     38.250000  131.000000   -0.007814    1.000000    1.000000   \n",
       "50%     75.500000  133.000000    0.007752   10.000000   10.000000   \n",
       "75%    112.750000  136.000000    0.028781   10.000000   10.000000   \n",
       "max    150.000000  143.000000    0.106061  101.000000  103.000000   \n",
       "\n",
       "       potencial_Total  densidade_Local    particao  \n",
       "count       150.000000       150.000000  150.000000  \n",
       "mean          1.226667         0.497425    0.493333  \n",
       "std           4.013646         0.014427    0.501630  \n",
       "min         -11.000000         0.461391    0.000000  \n",
       "25%          -1.000000         0.488888    0.000000  \n",
       "50%           1.000000         0.496660    0.000000  \n",
       "75%           4.000000         0.504924    1.000000  \n",
       "max          14.000000         0.554803    1.000000  "
      ]
     },
     "execution_count": 83,
     "metadata": {},
     "output_type": "execute_result"
    }
   ],
   "source": [
    "df.describe()"
   ]
  },
  {
   "cell_type": "code",
   "execution_count": 84,
   "metadata": {},
   "outputs": [
    {
     "data": {
      "image/png": "[encoded data removed]",
      "text/plain": [
       "<Figure size 800x400 with 1 Axes>"
      ]
     },
     "metadata": {},
     "output_type": "display_data"
    }
   ],
   "source": [
    "# Tamanho da figura\n",
    "plt.figure(figsize=(8, 4))\n",
    "\n",
    "# Utilizado o ponto e vírgula no final para retornar apenas o gráfico.\n",
    "sns.countplot(x = df[\"particao\"], edgecolor='black');\n",
    "\n",
    "# Acrescentando as linhas no eixo y.\n",
    "plt.grid(axis='y', linestyle='--', alpha=0.4)\n",
    "\n",
    "# Descrição\n",
    "plt.title('Particionamento dos vértices', fontsize=18)\n",
    "plt.xlabel('Partição', fontsize=16)\n",
    "plt.ylabel('Contagem', fontsize=16)\n",
    "plt.show() "
   ]
  },
  {
   "cell_type": "markdown",
   "metadata": {},
   "source": [
    "##### Divisão entre Previsores e Classes"
   ]
  },
  {
   "cell_type": "markdown",
   "metadata": {},
   "source": [
    "Faz-se necessário realizar a divisão entre previsores e classes. Utilizaremos duas variáveis, uma para armazenar somente os atributos previsores (Geralmente é associada a X) e outra para armazenar somente a classe (Geralmente é associada ao Y).\n",
    "\n",
    "**Variáveis:**\n",
    "- `X_grafo_art`: Variável previsora.\n",
    "- `Y_grafo_art`: Variável classe.\n",
    "\n",
    "**Funções utilizadas:**\n",
    "- `iloc()`: Responsável por selecionar as colunas desejadas.\n",
    "- `values()`: Responsável por converter os valores para arrays NumPy.\n",
    "\n",
    "**Porquê converter os valores para arrays NumPy?**\n",
    "- Muitos algoritmos de Machine Learning em bibliotecas populares, como sklearn esperam que esses dados estejam nesse formato.\n"
   ]
  },
  {
   "cell_type": "code",
   "execution_count": 85,
   "metadata": {},
   "outputs": [],
   "source": [
    "X_grafo_art = df.iloc[:, 0:7].values"
   ]
  },
  {
   "cell_type": "markdown",
   "metadata": {},
   "source": [
    "**Nota:** Selecionando as colunas 0, ..., 6 como preditoras e realizando a conversão dos valores para arrays NumPy."
   ]
  },
  {
   "cell_type": "code",
   "execution_count": 86,
   "metadata": {},
   "outputs": [],
   "source": [
    "Y_grafo_art = df.iloc[:, 7].values"
   ]
  },
  {
   "cell_type": "markdown",
   "metadata": {},
   "source": [
    "**Nota:** Selecionando somente a coluna 7 como preditoras e realizando a conversão dos valores para arrays NumPy."
   ]
  },
  {
   "cell_type": "code",
   "execution_count": 87,
   "metadata": {},
   "outputs": [
    {
     "data": {
      "text/plain": [
       "((150, 7), (150,))"
      ]
     },
     "execution_count": 87,
     "metadata": {},
     "output_type": "execute_result"
    }
   ],
   "source": [
    "X_grafo_art.shape, Y_grafo_art.shape"
   ]
  },
  {
   "cell_type": "markdown",
   "metadata": {},
   "source": [
    "##### Separando base de dados em Treinamento e Teste"
   ]
  },
  {
   "cell_type": "markdown",
   "metadata": {},
   "source": [
    "Durante esta etapa, ocorrerá a divisão da base de dados em duas partes distintas:\n",
    "1. A primeira parte é destinada ao processo de treinamento do algoritmo.\n",
    "2. A segunda parte é reservada para o teste, permitindo avaliar a precisão do algoritmo ao tentar prever os atributos de classe.\n",
    "\n",
    "**Funções utilizadas:**\n",
    "\n",
    "- `train_test_split()`: Responsável por dividir a base de dados em treinamento e teste.\n",
    "    - Parâmetro `test_size`: Define a proporção dos dados que serão utilizados para teste.\n",
    "    - Parâmetro `random_state`: Se executar o código com o mesmo valor, obterá a mesma divisão de dados.\n"
   ]
  },
  {
   "cell_type": "code",
   "execution_count": 88,
   "metadata": {},
   "outputs": [],
   "source": [
    "from sklearn.model_selection import train_test_split"
   ]
  },
  {
   "cell_type": "code",
   "execution_count": 89,
   "metadata": {},
   "outputs": [],
   "source": [
    "X_treinamento, X_teste, Y_treinamento, Y_teste = train_test_split(X_grafo_art, Y_grafo_art, test_size=0.20, random_state=0)"
   ]
  },
  {
   "cell_type": "code",
   "execution_count": 90,
   "metadata": {},
   "outputs": [
    {
     "data": {
      "text/plain": [
       "((120, 7), (30, 7))"
      ]
     },
     "execution_count": 90,
     "metadata": {},
     "output_type": "execute_result"
    }
   ],
   "source": [
    "X_treinamento.shape, X_teste.shape"
   ]
  },
  {
   "cell_type": "code",
   "execution_count": 91,
   "metadata": {},
   "outputs": [
    {
     "data": {
      "text/plain": [
       "((120,), (30,))"
      ]
     },
     "execution_count": 91,
     "metadata": {},
     "output_type": "execute_result"
    }
   ],
   "source": [
    "Y_treinamento.shape, Y_teste.shape"
   ]
  },
  {
   "cell_type": "markdown",
   "metadata": {},
   "source": [
    "### Aplicando algorítimos de aprendizado de máquina"
   ]
  },
  {
   "cell_type": "markdown",
   "metadata": {},
   "source": [
    "#### Naive Bayes - 61,3% de acurácia"
   ]
  },
  {
   "cell_type": "markdown",
   "metadata": {},
   "source": [
    "##### Descrição do modelo"
   ]
  },
  {
   "cell_type": "markdown",
   "metadata": {},
   "source": [
    "O algoritmo Naive Bayes é um classificador probabilístico simples. Ele utiliza probabilidades condicionais para calcular a chance de um exemplo pertencer a uma determinada classe. Por ele considerar que todos os atributos da base de dados são independentes entre si (o que geralmente não é verdade), permite realizar a aplicação em diversos cenários distintos.\n",
    "\n",
    "No processo de treinamento do Naive Bayes, a base de dados de treinamento é usada para estimar as probabilidades condicionais de cada classe. Uma vez treinado, o classificador pode fazer previsões ao calcular as probabilidades condicionais para novos exemplos. A classe escolhida será aquela com a maior probabilidade a posteriori.\n",
    "\n",
    "Por fim, o Naive Bayes utiliza como base o Teorema Bayes para realizar esses cálculos probabilísticos. Dado um exemplo, esse teorema usa a probabilidade a posteriori de uma classe, probabilidade a priori e as probabilidades condicionais dos atributos das classes\n",
    "\n",
    "**Nota:**\n",
    "- **Probabilidade a Priori:** refere à probabilidade de um evento acontecer com base em informações anteriores, antes de qualquer evidência adicional ser considerada.\n",
    "- **Probabilidade a Posteriori:** É a probabilidade atualizada, levando em conta novas evidências/informações. Em outras palavras, é a probabildade de um evento acontecer, levando em conta as informações adicionais disponíveis.\n",
    "\n",
    "**1. Vantagens do Naive Bayes:**\n",
    "- Rápido.\n",
    "- Simplicidade de interpretação.\n",
    "- Trabalha bem com vários atributos.\n",
    "- Boas previsões em base de dados pequenas.\n",
    "\n",
    "**2. Desvantagens do Naive Bayes:**\n",
    "- Considera que todos os atributos da base de dados são independentes entre si. Na prática isso nem sempre é verdade, por exemplo, não considerar que a renda pessoal tem relação com a dívida."
   ]
  },
  {
   "cell_type": "code",
   "execution_count": 92,
   "metadata": {},
   "outputs": [],
   "source": [
    "from sklearn.naive_bayes import GaussianNB\n",
    "from sklearn.metrics import accuracy_score, confusion_matrix, classification_report"
   ]
  },
  {
   "cell_type": "markdown",
   "metadata": {},
   "source": [
    "**1. Modelo**\n",
    "- `GaussianNB`: Esta é uma classe que implementa o classificador Naive Bayes com uma distribuição gaussiana.\n",
    "\n",
    "**2. Métrica de Avaliação**\n",
    "- `accuracy_score()`: Esta é uma função que calcula a precisão do modelo de classificação. Ela compara as previsões feitas pelo modelo com os rótulos reais.\n",
    "\n",
    "- `confusion_matrix()`: Esta função cria uma matriz de confusão que mostra o desempenho do modelo em termos de verdadeiros positivos, falsos positivos, verdadeiros negativos e falsos negativos.\n",
    "\n",
    "- `classification_report()`: Esta função gera um relatório detalhado de métricas de avaliação de classificação, incluindo precisão, recall, F1-score e suporte para cada classe."
   ]
  },
  {
   "cell_type": "markdown",
   "metadata": {},
   "source": [
    "##### Aplicando o modelo"
   ]
  },
  {
   "cell_type": "code",
   "execution_count": 93,
   "metadata": {},
   "outputs": [
    {
     "data": {
      "text/html": [
       "<style>#sk-container-id-5 {color: black;background-color: white;}#sk-container-id-5 pre{padding: 0;}#sk-container-id-5 div.sk-toggleable {background-color: white;}#sk-container-id-5 label.sk-toggleable__label {cursor: pointer;display: block;width: 100%;margin-bottom: 0;padding: 0.3em;box-sizing: border-box;text-align: center;}#sk-container-id-5 label.sk-toggleable__label-arrow:before {content: \"▸\";float: left;margin-right: 0.25em;color: #696969;}#sk-container-id-5 label.sk-toggleable__label-arrow:hover:before {color: black;}#sk-container-id-5 div.sk-estimator:hover label.sk-toggleable__label-arrow:before {color: black;}#sk-container-id-5 div.sk-toggleable__content {max-height: 0;max-width: 0;overflow: hidden;text-align: left;background-color: #f0f8ff;}#sk-container-id-5 div.sk-toggleable__content pre {margin: 0.2em;color: black;border-radius: 0.25em;background-color: #f0f8ff;}#sk-container-id-5 input.sk-toggleable__control:checked~div.sk-toggleable__content {max-height: 200px;max-width: 100%;overflow: auto;}#sk-container-id-5 input.sk-toggleable__control:checked~label.sk-toggleable__label-arrow:before {content: \"▾\";}#sk-container-id-5 div.sk-estimator input.sk-toggleable__control:checked~label.sk-toggleable__label {background-color: #d4ebff;}#sk-container-id-5 div.sk-label input.sk-toggleable__control:checked~label.sk-toggleable__label {background-color: #d4ebff;}#sk-container-id-5 input.sk-hidden--visually {border: 0;clip: rect(1px 1px 1px 1px);clip: rect(1px, 1px, 1px, 1px);height: 1px;margin: -1px;overflow: hidden;padding: 0;position: absolute;width: 1px;}#sk-container-id-5 div.sk-estimator {font-family: monospace;background-color: #f0f8ff;border: 1px dotted black;border-radius: 0.25em;box-sizing: border-box;margin-bottom: 0.5em;}#sk-container-id-5 div.sk-estimator:hover {background-color: #d4ebff;}#sk-container-id-5 div.sk-parallel-item::after {content: \"\";width: 100%;border-bottom: 1px solid gray;flex-grow: 1;}#sk-container-id-5 div.sk-label:hover label.sk-toggleable__label {background-color: #d4ebff;}#sk-container-id-5 div.sk-serial::before {content: \"\";position: absolute;border-left: 1px solid gray;box-sizing: border-box;top: 0;bottom: 0;left: 50%;z-index: 0;}#sk-container-id-5 div.sk-serial {display: flex;flex-direction: column;align-items: center;background-color: white;padding-right: 0.2em;padding-left: 0.2em;position: relative;}#sk-container-id-5 div.sk-item {position: relative;z-index: 1;}#sk-container-id-5 div.sk-parallel {display: flex;align-items: stretch;justify-content: center;background-color: white;position: relative;}#sk-container-id-5 div.sk-item::before, #sk-container-id-5 div.sk-parallel-item::before {content: \"\";position: absolute;border-left: 1px solid gray;box-sizing: border-box;top: 0;bottom: 0;left: 50%;z-index: -1;}#sk-container-id-5 div.sk-parallel-item {display: flex;flex-direction: column;z-index: 1;position: relative;background-color: white;}#sk-container-id-5 div.sk-parallel-item:first-child::after {align-self: flex-end;width: 50%;}#sk-container-id-5 div.sk-parallel-item:last-child::after {align-self: flex-start;width: 50%;}#sk-container-id-5 div.sk-parallel-item:only-child::after {width: 0;}#sk-container-id-5 div.sk-dashed-wrapped {border: 1px dashed gray;margin: 0 0.4em 0.5em 0.4em;box-sizing: border-box;padding-bottom: 0.4em;background-color: white;}#sk-container-id-5 div.sk-label label {font-family: monospace;font-weight: bold;display: inline-block;line-height: 1.2em;}#sk-container-id-5 div.sk-label-container {text-align: center;}#sk-container-id-5 div.sk-container {/* jupyter's `normalize.less` sets `[hidden] { display: none; }` but bootstrap.min.css set `[hidden] { display: none !important; }` so we also need the `!important` here to be able to override the default hidden behavior on the sphinx rendered scikit-learn.org. See: https://github.com/scikit-learn/scikit-learn/issues/21755 */display: inline-block !important;position: relative;}#sk-container-id-5 div.sk-text-repr-fallback {display: none;}</style><div id=\"sk-container-id-5\" class=\"sk-top-container\"><div class=\"sk-text-repr-fallback\"><pre>GaussianNB()</pre><b>In a Jupyter environment, please rerun this cell to show the HTML representation or trust the notebook. <br />On GitHub, the HTML representation is unable to render, please try loading this page with nbviewer.org.</b></div><div class=\"sk-container\" hidden><div class=\"sk-item\"><div class=\"sk-estimator sk-toggleable\"><input class=\"sk-toggleable__control sk-hidden--visually\" id=\"sk-estimator-id-5\" type=\"checkbox\" checked><label for=\"sk-estimator-id-5\" class=\"sk-toggleable__label sk-toggleable__label-arrow\">GaussianNB</label><div class=\"sk-toggleable__content\"><pre>GaussianNB()</pre></div></div></div></div></div>"
      ],
      "text/plain": [
       "GaussianNB()"
      ]
     },
     "execution_count": 93,
     "metadata": {},
     "output_type": "execute_result"
    }
   ],
   "source": [
    "naive_grafo_art = GaussianNB()\n",
    "naive_grafo_art.fit(X_treinamento, Y_treinamento)"
   ]
  },
  {
   "cell_type": "markdown",
   "metadata": {},
   "source": [
    "**Nota:** Através da função `fit()`, foi realizado o treinamento do modelo"
   ]
  },
  {
   "cell_type": "code",
   "execution_count": 94,
   "metadata": {},
   "outputs": [
    {
     "data": {
      "text/plain": [
       "array([1, 0, 1, 1, 1, 1, 1, 0, 1, 0, 1, 1, 0, 1, 0, 0, 0, 0, 1, 0, 1, 0,\n",
       "       0, 0, 0, 0, 0, 1, 0, 0], dtype=int64)"
      ]
     },
     "execution_count": 94,
     "metadata": {},
     "output_type": "execute_result"
    }
   ],
   "source": [
    "previsoes = naive_grafo_art.predict(X_teste)\n",
    "previsoes"
   ]
  },
  {
   "cell_type": "markdown",
   "metadata": {},
   "source": [
    "**Nota:** Realizando a previsão para X_teste. Lembrando que o Y_teste são as respostas esperadas."
   ]
  },
  {
   "cell_type": "code",
   "execution_count": 95,
   "metadata": {},
   "outputs": [
    {
     "data": {
      "text/plain": [
       "(array([1, 0, 1, 1, 1, 1, 1, 0, 1, 0, 1, 1, 0, 1, 0, 0, 0, 0, 1, 0, 1, 0,\n",
       "        0, 0, 0, 0, 0, 1, 0, 0], dtype=int64),\n",
       " array([1, 1, 1, 1, 0, 1, 0, 1, 0, 0, 1, 0, 0, 0, 0, 1, 0, 0, 0, 0, 0, 1,\n",
       "        1, 0, 0, 0, 1, 1, 0, 0], dtype=int64))"
      ]
     },
     "execution_count": 95,
     "metadata": {},
     "output_type": "execute_result"
    }
   ],
   "source": [
    "previsoes, Y_teste"
   ]
  },
  {
   "cell_type": "code",
   "execution_count": 96,
   "metadata": {},
   "outputs": [
    {
     "data": {
      "text/plain": [
       "0.5666666666666667"
      ]
     },
     "execution_count": 96,
     "metadata": {},
     "output_type": "execute_result"
    }
   ],
   "source": [
    "accuracy_score(Y_teste, previsoes)"
   ]
  },
  {
   "cell_type": "markdown",
   "metadata": {},
   "source": [
    "**Nota:** Modelo tem uma precisão de 56%. Comparamos a previsão realizada pelo modelo com a resposta esperada."
   ]
  },
  {
   "cell_type": "code",
   "execution_count": 97,
   "metadata": {},
   "outputs": [
    {
     "name": "stdout",
     "output_type": "stream",
     "text": [
      "              precision    recall  f1-score   support\n",
      "\n",
      "           0       0.65      0.61      0.63        18\n",
      "           1       0.46      0.50      0.48        12\n",
      "\n",
      "    accuracy                           0.57        30\n",
      "   macro avg       0.55      0.56      0.55        30\n",
      "weighted avg       0.57      0.57      0.57        30\n",
      "\n"
     ]
    }
   ],
   "source": [
    "print(classification_report(Y_teste, previsoes))"
   ]
  },
  {
   "cell_type": "markdown",
   "metadata": {},
   "source": [
    "**Nota:**\n",
    "- 0 indica se o vértice é da partição 0.\n",
    "- 1 indica se o vértice é da partição 1.\n",
    "\n",
    "**Interpretação destes dados:**\n",
    "- Partição 0: O modelo conseguiu identificar cerca de 61% dos vértices da partição 0, e quando identificou eles, teve a taxa de acerto de 58%.\n",
    "- Partição 1: O modelo conseguiu identificar cerca de 33% dos vértices da partição 1, e quando identificou eles, teve a taxa de acerto de 36%."
   ]
  },
  {
   "cell_type": "markdown",
   "metadata": {},
   "source": [
    "##### Validação cruzada: K-folder no Naive Bayes"
   ]
  },
  {
   "cell_type": "markdown",
   "metadata": {},
   "source": [
    "Essa técnica consiste em dividir o conjunto de dados em k partes iguais e, em seguida, treinar e avaliar o modelo k vezes. Em cada iteração, um dos folds é utilizado como conjunto de teste, enquanto os k-1 folds restantes formam o conjunto de treinamento. Esse procedimento proporciona uma avaliação mais sólida do desempenho do modelo, uma vez que ele é testado em diversos subconjuntos distintos dos dados."
   ]
  },
  {
   "cell_type": "code",
   "execution_count": 98,
   "metadata": {},
   "outputs": [],
   "source": [
    "from sklearn.model_selection import KFold\n",
    "from sklearn.model_selection import cross_val_score, cross_val_predict"
   ]
  },
  {
   "cell_type": "code",
   "execution_count": 99,
   "metadata": {},
   "outputs": [],
   "source": [
    "kfold = KFold(n_splits=10, shuffle=True, random_state=0)"
   ]
  },
  {
   "cell_type": "code",
   "execution_count": 100,
   "metadata": {},
   "outputs": [],
   "source": [
    "naive_bayes_validacao_cruzada = GaussianNB()"
   ]
  },
  {
   "cell_type": "code",
   "execution_count": 101,
   "metadata": {},
   "outputs": [],
   "source": [
    "scores_naive_bayes = cross_val_score(naive_bayes_validacao_cruzada, X_grafo_art, Y_grafo_art, cv=kfold)"
   ]
  },
  {
   "cell_type": "code",
   "execution_count": 135,
   "metadata": {},
   "outputs": [
    {
     "data": {
      "text/plain": [
       "0.6599999999999999"
      ]
     },
     "execution_count": 135,
     "metadata": {},
     "output_type": "execute_result"
    }
   ],
   "source": [
    "scores_naive_bayes.mean() "
   ]
  },
  {
   "cell_type": "markdown",
   "metadata": {},
   "source": [
    "#### Árvore de decisão - 91,3% de Acurácia - (Overfitting?)"
   ]
  },
  {
   "cell_type": "markdown",
   "metadata": {},
   "source": [
    "Como o próprio nome sugere, ela estabelece uma estrutura análoga a uma árvore, na qual são definidos pontos de decisão (nós) e cada um deles possui uma consequência decisiva associada a um caminho (aresta). Portanto, os nós da árvore têm a responsabilidade de indicar um ramo a ser seguido, ou seja, uma sequência de passos até chegar no resultado. Por último, a construção desta árvore pode ser realizada seguindo critérios de Entropia e Índice GINI."
   ]
  },
  {
   "cell_type": "code",
   "execution_count": 103,
   "metadata": {},
   "outputs": [],
   "source": [
    "from sklearn.tree import DecisionTreeClassifier"
   ]
  },
  {
   "cell_type": "code",
   "execution_count": 104,
   "metadata": {},
   "outputs": [
    {
     "data": {
      "text/plain": [
       "((120, 7), (30, 7))"
      ]
     },
     "execution_count": 104,
     "metadata": {},
     "output_type": "execute_result"
    }
   ],
   "source": [
    "X_treinamento.shape, X_teste.shape"
   ]
  },
  {
   "cell_type": "code",
   "execution_count": 105,
   "metadata": {},
   "outputs": [
    {
     "data": {
      "text/plain": [
       "((120,), (30,))"
      ]
     },
     "execution_count": 105,
     "metadata": {},
     "output_type": "execute_result"
    }
   ],
   "source": [
    "Y_treinamento.shape, Y_teste.shape"
   ]
  },
  {
   "cell_type": "code",
   "execution_count": 106,
   "metadata": {},
   "outputs": [
    {
     "data": {
      "text/html": [
       "<style>#sk-container-id-6 {color: black;background-color: white;}#sk-container-id-6 pre{padding: 0;}#sk-container-id-6 div.sk-toggleable {background-color: white;}#sk-container-id-6 label.sk-toggleable__label {cursor: pointer;display: block;width: 100%;margin-bottom: 0;padding: 0.3em;box-sizing: border-box;text-align: center;}#sk-container-id-6 label.sk-toggleable__label-arrow:before {content: \"▸\";float: left;margin-right: 0.25em;color: #696969;}#sk-container-id-6 label.sk-toggleable__label-arrow:hover:before {color: black;}#sk-container-id-6 div.sk-estimator:hover label.sk-toggleable__label-arrow:before {color: black;}#sk-container-id-6 div.sk-toggleable__content {max-height: 0;max-width: 0;overflow: hidden;text-align: left;background-color: #f0f8ff;}#sk-container-id-6 div.sk-toggleable__content pre {margin: 0.2em;color: black;border-radius: 0.25em;background-color: #f0f8ff;}#sk-container-id-6 input.sk-toggleable__control:checked~div.sk-toggleable__content {max-height: 200px;max-width: 100%;overflow: auto;}#sk-container-id-6 input.sk-toggleable__control:checked~label.sk-toggleable__label-arrow:before {content: \"▾\";}#sk-container-id-6 div.sk-estimator input.sk-toggleable__control:checked~label.sk-toggleable__label {background-color: #d4ebff;}#sk-container-id-6 div.sk-label input.sk-toggleable__control:checked~label.sk-toggleable__label {background-color: #d4ebff;}#sk-container-id-6 input.sk-hidden--visually {border: 0;clip: rect(1px 1px 1px 1px);clip: rect(1px, 1px, 1px, 1px);height: 1px;margin: -1px;overflow: hidden;padding: 0;position: absolute;width: 1px;}#sk-container-id-6 div.sk-estimator {font-family: monospace;background-color: #f0f8ff;border: 1px dotted black;border-radius: 0.25em;box-sizing: border-box;margin-bottom: 0.5em;}#sk-container-id-6 div.sk-estimator:hover {background-color: #d4ebff;}#sk-container-id-6 div.sk-parallel-item::after {content: \"\";width: 100%;border-bottom: 1px solid gray;flex-grow: 1;}#sk-container-id-6 div.sk-label:hover label.sk-toggleable__label {background-color: #d4ebff;}#sk-container-id-6 div.sk-serial::before {content: \"\";position: absolute;border-left: 1px solid gray;box-sizing: border-box;top: 0;bottom: 0;left: 50%;z-index: 0;}#sk-container-id-6 div.sk-serial {display: flex;flex-direction: column;align-items: center;background-color: white;padding-right: 0.2em;padding-left: 0.2em;position: relative;}#sk-container-id-6 div.sk-item {position: relative;z-index: 1;}#sk-container-id-6 div.sk-parallel {display: flex;align-items: stretch;justify-content: center;background-color: white;position: relative;}#sk-container-id-6 div.sk-item::before, #sk-container-id-6 div.sk-parallel-item::before {content: \"\";position: absolute;border-left: 1px solid gray;box-sizing: border-box;top: 0;bottom: 0;left: 50%;z-index: -1;}#sk-container-id-6 div.sk-parallel-item {display: flex;flex-direction: column;z-index: 1;position: relative;background-color: white;}#sk-container-id-6 div.sk-parallel-item:first-child::after {align-self: flex-end;width: 50%;}#sk-container-id-6 div.sk-parallel-item:last-child::after {align-self: flex-start;width: 50%;}#sk-container-id-6 div.sk-parallel-item:only-child::after {width: 0;}#sk-container-id-6 div.sk-dashed-wrapped {border: 1px dashed gray;margin: 0 0.4em 0.5em 0.4em;box-sizing: border-box;padding-bottom: 0.4em;background-color: white;}#sk-container-id-6 div.sk-label label {font-family: monospace;font-weight: bold;display: inline-block;line-height: 1.2em;}#sk-container-id-6 div.sk-label-container {text-align: center;}#sk-container-id-6 div.sk-container {/* jupyter's `normalize.less` sets `[hidden] { display: none; }` but bootstrap.min.css set `[hidden] { display: none !important; }` so we also need the `!important` here to be able to override the default hidden behavior on the sphinx rendered scikit-learn.org. See: https://github.com/scikit-learn/scikit-learn/issues/21755 */display: inline-block !important;position: relative;}#sk-container-id-6 div.sk-text-repr-fallback {display: none;}</style><div id=\"sk-container-id-6\" class=\"sk-top-container\"><div class=\"sk-text-repr-fallback\"><pre>DecisionTreeClassifier(max_depth=3, min_samples_leaf=5, min_samples_split=15,\n",
       "                       random_state=0)</pre><b>In a Jupyter environment, please rerun this cell to show the HTML representation or trust the notebook. <br />On GitHub, the HTML representation is unable to render, please try loading this page with nbviewer.org.</b></div><div class=\"sk-container\" hidden><div class=\"sk-item\"><div class=\"sk-estimator sk-toggleable\"><input class=\"sk-toggleable__control sk-hidden--visually\" id=\"sk-estimator-id-6\" type=\"checkbox\" checked><label for=\"sk-estimator-id-6\" class=\"sk-toggleable__label sk-toggleable__label-arrow\">DecisionTreeClassifier</label><div class=\"sk-toggleable__content\"><pre>DecisionTreeClassifier(max_depth=3, min_samples_leaf=5, min_samples_split=15,\n",
       "                       random_state=0)</pre></div></div></div></div></div>"
      ],
      "text/plain": [
       "DecisionTreeClassifier(max_depth=3, min_samples_leaf=5, min_samples_split=15,\n",
       "                       random_state=0)"
      ]
     },
     "execution_count": 106,
     "metadata": {},
     "output_type": "execute_result"
    }
   ],
   "source": [
    "arvore_decisao_grafo = DecisionTreeClassifier(criterion='gini', max_depth=3, min_samples_leaf=5, min_samples_split=15, random_state=0)\n",
    "arvore_decisao_grafo.fit(X_treinamento, Y_treinamento)"
   ]
  },
  {
   "cell_type": "markdown",
   "metadata": {},
   "source": [
    "**Critérios utilizados na construção da árvore:**\n",
    "- **criterion='gini':** Utilizando o índice de Gini como critério para avaliar a qualidade das divisões.\n",
    "- **max_depth=3:** Limitando a profundidade máxima da árvore a 3 níveis.\n",
    "- **min_samples_leaf=5:** Exigindo um mínimo de 5 amostras por folha.\n",
    "- **min_samples_split=15:** Exigindo um mínimo de 15 amostras para realizar uma divisão.\n",
    "\n",
    "**Nota:** Ao ajustar os hiperparâmetros da Árvore de Decisão (como critério, profundidade máxima, número mínimo de amostras por folha e número mínimo de amostras para divisão), você está tentando controlar a complexidade do modelo para evitar overfitting"
   ]
  },
  {
   "cell_type": "code",
   "execution_count": 107,
   "metadata": {},
   "outputs": [],
   "source": [
    "previsao_arvore_decisao = arvore_decisao_grafo.predict(X_teste)"
   ]
  },
  {
   "cell_type": "code",
   "execution_count": 108,
   "metadata": {},
   "outputs": [
    {
     "data": {
      "text/plain": [
       "(array([1, 1, 1, 1, 0, 1, 0, 1, 0, 0, 1, 0, 0, 0, 0, 1, 0, 0, 0, 0, 0, 1,\n",
       "        1, 0, 0, 0, 1, 1, 0, 0], dtype=int64),\n",
       " array([1, 1, 1, 1, 0, 1, 0, 1, 1, 0, 1, 0, 0, 0, 0, 1, 0, 0, 0, 0, 0, 1,\n",
       "        1, 0, 0, 0, 1, 1, 1, 0], dtype=int64))"
      ]
     },
     "execution_count": 108,
     "metadata": {},
     "output_type": "execute_result"
    }
   ],
   "source": [
    "Y_teste, previsao_arvore_decisao"
   ]
  },
  {
   "cell_type": "code",
   "execution_count": 109,
   "metadata": {},
   "outputs": [
    {
     "data": {
      "text/plain": [
       "0.9333333333333333"
      ]
     },
     "execution_count": 109,
     "metadata": {},
     "output_type": "execute_result"
    }
   ],
   "source": [
    "accuracy_score(previsao_arvore_decisao, Y_teste)"
   ]
  },
  {
   "cell_type": "code",
   "execution_count": 110,
   "metadata": {},
   "outputs": [
    {
     "name": "stdout",
     "output_type": "stream",
     "text": [
      "              precision    recall  f1-score   support\n",
      "\n",
      "           0       1.00      0.89      0.94        18\n",
      "           1       0.86      1.00      0.92        12\n",
      "\n",
      "    accuracy                           0.93        30\n",
      "   macro avg       0.93      0.94      0.93        30\n",
      "weighted avg       0.94      0.93      0.93        30\n",
      "\n"
     ]
    }
   ],
   "source": [
    "print(classification_report(Y_teste, previsao_arvore_decisao))\n"
   ]
  },
  {
   "cell_type": "markdown",
   "metadata": {},
   "source": [
    "##### Validação cruzada: K-folder na Árvore de decisão"
   ]
  },
  {
   "cell_type": "code",
   "execution_count": 111,
   "metadata": {},
   "outputs": [],
   "source": [
    "kfold  = KFold(n_splits=10, shuffle=True, random_state=0) # Definindo o número de folds"
   ]
  },
  {
   "cell_type": "code",
   "execution_count": 112,
   "metadata": {},
   "outputs": [],
   "source": [
    "arvore_decisao_grafo = DecisionTreeClassifier(criterion='gini', max_depth=3, min_samples_leaf=5, min_samples_split=15, random_state=0)"
   ]
  },
  {
   "cell_type": "code",
   "execution_count": 113,
   "metadata": {},
   "outputs": [],
   "source": [
    "scores_arvore_decisao = cross_val_score(arvore_decisao_grafo, X_grafo_art, Y_grafo_art, cv=kfold)"
   ]
  },
  {
   "cell_type": "code",
   "execution_count": 114,
   "metadata": {},
   "outputs": [
    {
     "data": {
      "text/plain": [
       "0.9133333333333333"
      ]
     },
     "execution_count": 114,
     "metadata": {},
     "output_type": "execute_result"
    }
   ],
   "source": [
    "scores_arvore_decisao.mean()"
   ]
  },
  {
   "cell_type": "markdown",
   "metadata": {},
   "source": [
    "#### Aprendizagem baseada em instâncias: kNN - 85,3% de Acurácia"
   ]
  },
  {
   "cell_type": "code",
   "execution_count": 115,
   "metadata": {},
   "outputs": [],
   "source": [
    "from sklearn.neighbors import KNeighborsClassifier"
   ]
  },
  {
   "cell_type": "code",
   "execution_count": 116,
   "metadata": {},
   "outputs": [
    {
     "data": {
      "text/html": [
       "<style>#sk-container-id-7 {color: black;background-color: white;}#sk-container-id-7 pre{padding: 0;}#sk-container-id-7 div.sk-toggleable {background-color: white;}#sk-container-id-7 label.sk-toggleable__label {cursor: pointer;display: block;width: 100%;margin-bottom: 0;padding: 0.3em;box-sizing: border-box;text-align: center;}#sk-container-id-7 label.sk-toggleable__label-arrow:before {content: \"▸\";float: left;margin-right: 0.25em;color: #696969;}#sk-container-id-7 label.sk-toggleable__label-arrow:hover:before {color: black;}#sk-container-id-7 div.sk-estimator:hover label.sk-toggleable__label-arrow:before {color: black;}#sk-container-id-7 div.sk-toggleable__content {max-height: 0;max-width: 0;overflow: hidden;text-align: left;background-color: #f0f8ff;}#sk-container-id-7 div.sk-toggleable__content pre {margin: 0.2em;color: black;border-radius: 0.25em;background-color: #f0f8ff;}#sk-container-id-7 input.sk-toggleable__control:checked~div.sk-toggleable__content {max-height: 200px;max-width: 100%;overflow: auto;}#sk-container-id-7 input.sk-toggleable__control:checked~label.sk-toggleable__label-arrow:before {content: \"▾\";}#sk-container-id-7 div.sk-estimator input.sk-toggleable__control:checked~label.sk-toggleable__label {background-color: #d4ebff;}#sk-container-id-7 div.sk-label input.sk-toggleable__control:checked~label.sk-toggleable__label {background-color: #d4ebff;}#sk-container-id-7 input.sk-hidden--visually {border: 0;clip: rect(1px 1px 1px 1px);clip: rect(1px, 1px, 1px, 1px);height: 1px;margin: -1px;overflow: hidden;padding: 0;position: absolute;width: 1px;}#sk-container-id-7 div.sk-estimator {font-family: monospace;background-color: #f0f8ff;border: 1px dotted black;border-radius: 0.25em;box-sizing: border-box;margin-bottom: 0.5em;}#sk-container-id-7 div.sk-estimator:hover {background-color: #d4ebff;}#sk-container-id-7 div.sk-parallel-item::after {content: \"\";width: 100%;border-bottom: 1px solid gray;flex-grow: 1;}#sk-container-id-7 div.sk-label:hover label.sk-toggleable__label {background-color: #d4ebff;}#sk-container-id-7 div.sk-serial::before {content: \"\";position: absolute;border-left: 1px solid gray;box-sizing: border-box;top: 0;bottom: 0;left: 50%;z-index: 0;}#sk-container-id-7 div.sk-serial {display: flex;flex-direction: column;align-items: center;background-color: white;padding-right: 0.2em;padding-left: 0.2em;position: relative;}#sk-container-id-7 div.sk-item {position: relative;z-index: 1;}#sk-container-id-7 div.sk-parallel {display: flex;align-items: stretch;justify-content: center;background-color: white;position: relative;}#sk-container-id-7 div.sk-item::before, #sk-container-id-7 div.sk-parallel-item::before {content: \"\";position: absolute;border-left: 1px solid gray;box-sizing: border-box;top: 0;bottom: 0;left: 50%;z-index: -1;}#sk-container-id-7 div.sk-parallel-item {display: flex;flex-direction: column;z-index: 1;position: relative;background-color: white;}#sk-container-id-7 div.sk-parallel-item:first-child::after {align-self: flex-end;width: 50%;}#sk-container-id-7 div.sk-parallel-item:last-child::after {align-self: flex-start;width: 50%;}#sk-container-id-7 div.sk-parallel-item:only-child::after {width: 0;}#sk-container-id-7 div.sk-dashed-wrapped {border: 1px dashed gray;margin: 0 0.4em 0.5em 0.4em;box-sizing: border-box;padding-bottom: 0.4em;background-color: white;}#sk-container-id-7 div.sk-label label {font-family: monospace;font-weight: bold;display: inline-block;line-height: 1.2em;}#sk-container-id-7 div.sk-label-container {text-align: center;}#sk-container-id-7 div.sk-container {/* jupyter's `normalize.less` sets `[hidden] { display: none; }` but bootstrap.min.css set `[hidden] { display: none !important; }` so we also need the `!important` here to be able to override the default hidden behavior on the sphinx rendered scikit-learn.org. See: https://github.com/scikit-learn/scikit-learn/issues/21755 */display: inline-block !important;position: relative;}#sk-container-id-7 div.sk-text-repr-fallback {display: none;}</style><div id=\"sk-container-id-7\" class=\"sk-top-container\"><div class=\"sk-text-repr-fallback\"><pre>KNeighborsClassifier(n_neighbors=10, weights=&#x27;distance&#x27;)</pre><b>In a Jupyter environment, please rerun this cell to show the HTML representation or trust the notebook. <br />On GitHub, the HTML representation is unable to render, please try loading this page with nbviewer.org.</b></div><div class=\"sk-container\" hidden><div class=\"sk-item\"><div class=\"sk-estimator sk-toggleable\"><input class=\"sk-toggleable__control sk-hidden--visually\" id=\"sk-estimator-id-7\" type=\"checkbox\" checked><label for=\"sk-estimator-id-7\" class=\"sk-toggleable__label sk-toggleable__label-arrow\">KNeighborsClassifier</label><div class=\"sk-toggleable__content\"><pre>KNeighborsClassifier(n_neighbors=10, weights=&#x27;distance&#x27;)</pre></div></div></div></div></div>"
      ],
      "text/plain": [
       "KNeighborsClassifier(n_neighbors=10, weights='distance')"
      ]
     },
     "execution_count": 116,
     "metadata": {},
     "output_type": "execute_result"
    }
   ],
   "source": [
    "knn = KNeighborsClassifier(n_neighbors=10, metric='minkowski', p=2, weights='distance')\n",
    "knn.fit(X_treinamento, Y_treinamento)"
   ]
  },
  {
   "cell_type": "code",
   "execution_count": 117,
   "metadata": {},
   "outputs": [],
   "source": [
    "knn_previsoes = knn.predict(X_teste)"
   ]
  },
  {
   "cell_type": "code",
   "execution_count": 118,
   "metadata": {},
   "outputs": [
    {
     "data": {
      "text/plain": [
       "0.8666666666666667"
      ]
     },
     "execution_count": 118,
     "metadata": {},
     "output_type": "execute_result"
    }
   ],
   "source": [
    "accuracy_score(Y_teste, knn_previsoes)"
   ]
  },
  {
   "cell_type": "code",
   "execution_count": 119,
   "metadata": {},
   "outputs": [
    {
     "name": "stdout",
     "output_type": "stream",
     "text": [
      "              precision    recall  f1-score   support\n",
      "\n",
      "           0       1.00      0.78      0.88        18\n",
      "           1       0.75      1.00      0.86        12\n",
      "\n",
      "    accuracy                           0.87        30\n",
      "   macro avg       0.88      0.89      0.87        30\n",
      "weighted avg       0.90      0.87      0.87        30\n",
      "\n"
     ]
    }
   ],
   "source": [
    "print(classification_report(Y_teste, knn_previsoes))"
   ]
  },
  {
   "cell_type": "markdown",
   "metadata": {},
   "source": [
    "#### Validação cruzada: kFold no kNN"
   ]
  },
  {
   "cell_type": "code",
   "execution_count": 120,
   "metadata": {},
   "outputs": [],
   "source": [
    "kfold  = KFold(n_splits=10, shuffle=True, random_state=0) # Definindo o número de folds"
   ]
  },
  {
   "cell_type": "code",
   "execution_count": 121,
   "metadata": {},
   "outputs": [],
   "source": [
    "knn = KNeighborsClassifier(n_neighbors=5, metric='minkowski', p=2, weights='distance')"
   ]
  },
  {
   "cell_type": "code",
   "execution_count": 122,
   "metadata": {},
   "outputs": [],
   "source": [
    "scores_knn = cross_val_score(knn, X_grafo_art, Y_grafo_art, cv=kfold)"
   ]
  },
  {
   "cell_type": "code",
   "execution_count": 123,
   "metadata": {},
   "outputs": [
    {
     "data": {
      "text/plain": [
       "0.8533333333333333"
      ]
     },
     "execution_count": 123,
     "metadata": {},
     "output_type": "execute_result"
    }
   ],
   "source": [
    "scores_knn.mean()"
   ]
  },
  {
   "cell_type": "markdown",
   "metadata": {},
   "source": [
    "#### Regressão Logística - 67,3% de Acurácia"
   ]
  },
  {
   "cell_type": "code",
   "execution_count": 124,
   "metadata": {},
   "outputs": [],
   "source": [
    "from sklearn.linear_model import LogisticRegression"
   ]
  },
  {
   "cell_type": "code",
   "execution_count": 125,
   "metadata": {},
   "outputs": [
    {
     "data": {
      "text/html": [
       "<style>#sk-container-id-8 {color: black;background-color: white;}#sk-container-id-8 pre{padding: 0;}#sk-container-id-8 div.sk-toggleable {background-color: white;}#sk-container-id-8 label.sk-toggleable__label {cursor: pointer;display: block;width: 100%;margin-bottom: 0;padding: 0.3em;box-sizing: border-box;text-align: center;}#sk-container-id-8 label.sk-toggleable__label-arrow:before {content: \"▸\";float: left;margin-right: 0.25em;color: #696969;}#sk-container-id-8 label.sk-toggleable__label-arrow:hover:before {color: black;}#sk-container-id-8 div.sk-estimator:hover label.sk-toggleable__label-arrow:before {color: black;}#sk-container-id-8 div.sk-toggleable__content {max-height: 0;max-width: 0;overflow: hidden;text-align: left;background-color: #f0f8ff;}#sk-container-id-8 div.sk-toggleable__content pre {margin: 0.2em;color: black;border-radius: 0.25em;background-color: #f0f8ff;}#sk-container-id-8 input.sk-toggleable__control:checked~div.sk-toggleable__content {max-height: 200px;max-width: 100%;overflow: auto;}#sk-container-id-8 input.sk-toggleable__control:checked~label.sk-toggleable__label-arrow:before {content: \"▾\";}#sk-container-id-8 div.sk-estimator input.sk-toggleable__control:checked~label.sk-toggleable__label {background-color: #d4ebff;}#sk-container-id-8 div.sk-label input.sk-toggleable__control:checked~label.sk-toggleable__label {background-color: #d4ebff;}#sk-container-id-8 input.sk-hidden--visually {border: 0;clip: rect(1px 1px 1px 1px);clip: rect(1px, 1px, 1px, 1px);height: 1px;margin: -1px;overflow: hidden;padding: 0;position: absolute;width: 1px;}#sk-container-id-8 div.sk-estimator {font-family: monospace;background-color: #f0f8ff;border: 1px dotted black;border-radius: 0.25em;box-sizing: border-box;margin-bottom: 0.5em;}#sk-container-id-8 div.sk-estimator:hover {background-color: #d4ebff;}#sk-container-id-8 div.sk-parallel-item::after {content: \"\";width: 100%;border-bottom: 1px solid gray;flex-grow: 1;}#sk-container-id-8 div.sk-label:hover label.sk-toggleable__label {background-color: #d4ebff;}#sk-container-id-8 div.sk-serial::before {content: \"\";position: absolute;border-left: 1px solid gray;box-sizing: border-box;top: 0;bottom: 0;left: 50%;z-index: 0;}#sk-container-id-8 div.sk-serial {display: flex;flex-direction: column;align-items: center;background-color: white;padding-right: 0.2em;padding-left: 0.2em;position: relative;}#sk-container-id-8 div.sk-item {position: relative;z-index: 1;}#sk-container-id-8 div.sk-parallel {display: flex;align-items: stretch;justify-content: center;background-color: white;position: relative;}#sk-container-id-8 div.sk-item::before, #sk-container-id-8 div.sk-parallel-item::before {content: \"\";position: absolute;border-left: 1px solid gray;box-sizing: border-box;top: 0;bottom: 0;left: 50%;z-index: -1;}#sk-container-id-8 div.sk-parallel-item {display: flex;flex-direction: column;z-index: 1;position: relative;background-color: white;}#sk-container-id-8 div.sk-parallel-item:first-child::after {align-self: flex-end;width: 50%;}#sk-container-id-8 div.sk-parallel-item:last-child::after {align-self: flex-start;width: 50%;}#sk-container-id-8 div.sk-parallel-item:only-child::after {width: 0;}#sk-container-id-8 div.sk-dashed-wrapped {border: 1px dashed gray;margin: 0 0.4em 0.5em 0.4em;box-sizing: border-box;padding-bottom: 0.4em;background-color: white;}#sk-container-id-8 div.sk-label label {font-family: monospace;font-weight: bold;display: inline-block;line-height: 1.2em;}#sk-container-id-8 div.sk-label-container {text-align: center;}#sk-container-id-8 div.sk-container {/* jupyter's `normalize.less` sets `[hidden] { display: none; }` but bootstrap.min.css set `[hidden] { display: none !important; }` so we also need the `!important` here to be able to override the default hidden behavior on the sphinx rendered scikit-learn.org. See: https://github.com/scikit-learn/scikit-learn/issues/21755 */display: inline-block !important;position: relative;}#sk-container-id-8 div.sk-text-repr-fallback {display: none;}</style><div id=\"sk-container-id-8\" class=\"sk-top-container\"><div class=\"sk-text-repr-fallback\"><pre>LogisticRegression(random_state=0)</pre><b>In a Jupyter environment, please rerun this cell to show the HTML representation or trust the notebook. <br />On GitHub, the HTML representation is unable to render, please try loading this page with nbviewer.org.</b></div><div class=\"sk-container\" hidden><div class=\"sk-item\"><div class=\"sk-estimator sk-toggleable\"><input class=\"sk-toggleable__control sk-hidden--visually\" id=\"sk-estimator-id-8\" type=\"checkbox\" checked><label for=\"sk-estimator-id-8\" class=\"sk-toggleable__label sk-toggleable__label-arrow\">LogisticRegression</label><div class=\"sk-toggleable__content\"><pre>LogisticRegression(random_state=0)</pre></div></div></div></div></div>"
      ],
      "text/plain": [
       "LogisticRegression(random_state=0)"
      ]
     },
     "execution_count": 125,
     "metadata": {},
     "output_type": "execute_result"
    }
   ],
   "source": [
    "# solver liblinear é bom para conjuntos de dados pequenos\n",
    "regressao_logistica = LogisticRegression(solver='lbfgs', random_state=0)\n",
    "regressao_logistica.fit(X_treinamento, Y_treinamento)\n"
   ]
  },
  {
   "cell_type": "code",
   "execution_count": 126,
   "metadata": {},
   "outputs": [],
   "source": [
    "previsao_regressao_logistica = regressao_logistica.predict(X_teste)"
   ]
  },
  {
   "cell_type": "code",
   "execution_count": 127,
   "metadata": {},
   "outputs": [
    {
     "data": {
      "text/plain": [
       "0.6"
      ]
     },
     "execution_count": 127,
     "metadata": {},
     "output_type": "execute_result"
    }
   ],
   "source": [
    "accuracy_score(Y_teste, previsao_regressao_logistica)"
   ]
  },
  {
   "cell_type": "code",
   "execution_count": 128,
   "metadata": {},
   "outputs": [
    {
     "name": "stdout",
     "output_type": "stream",
     "text": [
      "              precision    recall  f1-score   support\n",
      "\n",
      "           0       0.67      0.67      0.67        18\n",
      "           1       0.50      0.50      0.50        12\n",
      "\n",
      "    accuracy                           0.60        30\n",
      "   macro avg       0.58      0.58      0.58        30\n",
      "weighted avg       0.60      0.60      0.60        30\n",
      "\n"
     ]
    }
   ],
   "source": [
    "print(classification_report(Y_teste, previsao_regressao_logistica))"
   ]
  },
  {
   "cell_type": "markdown",
   "metadata": {},
   "source": [
    "#### Validação cruzada: k-Folder para Regressão logística"
   ]
  },
  {
   "cell_type": "code",
   "execution_count": 129,
   "metadata": {},
   "outputs": [],
   "source": [
    "kfold  = KFold(n_splits=10, shuffle=True, random_state=0) # Definindo o número de folds"
   ]
  },
  {
   "cell_type": "code",
   "execution_count": 130,
   "metadata": {},
   "outputs": [],
   "source": [
    "regressao_logistica = LogisticRegression(solver='lbfgs', random_state=0)"
   ]
  },
  {
   "cell_type": "code",
   "execution_count": 131,
   "metadata": {},
   "outputs": [],
   "source": [
    "scores_regressao_logistica = cross_val_score(regressao_logistica, X_grafo_art, Y_grafo_art, cv=kfold)"
   ]
  },
  {
   "cell_type": "code",
   "execution_count": 132,
   "metadata": {},
   "outputs": [
    {
     "data": {
      "text/plain": [
       "0.6733333333333333"
      ]
     },
     "execution_count": 132,
     "metadata": {},
     "output_type": "execute_result"
    }
   ],
   "source": [
    "scores_regressao_logistica.mean()"
   ]
  }
 ],
 "metadata": {
  "kernelspec": {
   "display_name": "Python 3",
   "language": "python",
   "name": "python3"
  },
  "language_info": {
   "codemirror_mode": {
    "name": "ipython",
    "version": 3
   },
   "file_extension": ".py",
   "mimetype": "text/x-python",
   "name": "python",
   "nbconvert_exporter": "python",
   "pygments_lexer": "ipython3",
   "version": "3.11.2"
  },
  "orig_nbformat": 4
 },
 "nbformat": 4,
 "nbformat_minor": 2
}
